{
  "cells": [
    {
      "cell_type": "markdown",
      "metadata": {
        "id": "2a-EEiFeG2wb"
      },
      "source": [
        "# ⛑ End-to-end Multi-class Alzheimer classification\n",
        "\n",
        "This notebook builts an end-to-end mutli-class classifier using various classifier Algorithms in Machine Learning.\n",
        "## 1.Problem\n",
        "\n",
        "  Classification of Alzheimer Disease.\n",
        "\n",
        "## 2.Data\n",
        "\n",
        "  The data we are using is from Tadpole\n",
        "    https://tadpole.grand-challenge.org/\n",
        "\n",
        "## 3.Evaluation\n",
        "  \n",
        "  The evaluation is about prediction probabliltes for each class of disease.\n",
        "    https://tadpole.grand-challenge.org/Data/  \n",
        "## 4.Features\n",
        " some information about the data:\n",
        "  * we are dealing with text (structured data) so it's probably best we use Machine learning.\n",
        "  * The data is in five different classes (12741)\n",
        "\n",
        "   * Cognitively Normal (CN)\n",
        "\n",
        "   * Early Mild Cognitive Impairment (EMCI)\n",
        "\n",
        "   * Late Mild Cognitive Impairment (LMCI)\n",
        "\n",
        "   * Subjective Memory Complaint (SMC)\n",
        "\n",
        "   * Alzheimer's Disease (AD)\n"
      ]
    },
    {
      "cell_type": "markdown",
      "metadata": {
        "id": "Tak09vp4S-mM"
      },
      "source": [
        "### Importing Datset\n"
      ]
    },
    {
      "cell_type": "code",
      "execution_count": 1,
      "metadata": {
        "colab": {
          "base_uri": "https://localhost:8080/"
        },
        "id": "s8IvmferDy-x",
        "outputId": "0f9c32fb-dfe9-41da-d4c6-4e0144c34af7"
      },
      "outputs": [
        {
          "output_type": "stream",
          "name": "stderr",
          "text": [
            "<ipython-input-1-4898e2ea0c94>:2: DtypeWarning: Columns (471,473,474,487,488,489,490,491,492,493,494,495,496,497,498,499,500,501,502,503,504,505,506,507,508,509,510,511,512,513,514,515,516,517,518,519,520,521,522,523,524,525,526,527,528,529,530,531,532,533,534,535,536,537,538,539,540,541,542,543,544,545,546,547,548,549,550,551,552,553,554,555,556,557,558,559,560,561,562,563,569,570,572,573,574,575,576,577,578,579,580,581,582,583,584,585,586,587,588,589,590,591,592,593,594,595,596,597,599,601,606,607,608,609,610,611,612,613,614,615,616,617,618,619,620,621,624,625,626,627,628,629,630,631,632,633,634,636,637,638,639,640,641,642,643,644,645,646,647,648,649,650,651,652,653,654,655,656,657,658,659,660,661,663,664,665,666,667,668,669,670,671,672,673,674,675,676,677,678,679,680,681,682,683,684,685,686,687,688,689,690,691,692,693,694,695,696,697,698,699,700,701,702,703,704,705,706,707,708,709,710,711,712,713,714,715,716,717,718,719,720,721,722,723,724,725,726,727,728,729,730,731,732,733,734,735,736,737,738,739,745,746,748,749,750,751,752,753,754,755,756,757,758,759,760,761,762,763,764,765,766,767,770,771,776,777,778,779,780,781,782,783,784,785,786,787,788,789,790,791,794,795,797,798,799,800,801,802,803,804,806,807,808,809,810,811,812,813,814,815,816,817,818,819,820,821,822,823,824,825,826,827,828,829,830,831) have mixed types. Specify dtype option on import or set low_memory=False.\n",
            "  Alzheimer_dataset=pd.read_csv('/content/drive/MyDrive/Alzheimer_ML/TADPOLE_D1_D2.csv/TADPOLE_D1_D2.csv')\n"
          ]
        },
        {
          "output_type": "stream",
          "name": "stdout",
          "text": [
            "   RID        PTID VISCODE  SITE  D1  D2 COLPROT ORIGPROT    EXAMDATE DX_bl  \\\n",
            "0    2  011_S_0002      bl    11   1   1   ADNI1    ADNI1  2005-09-08    CN   \n",
            "1    3  011_S_0003      bl    11   1   0   ADNI1    ADNI1  2005-09-12    AD   \n",
            "2    3  011_S_0003     m06    11   1   0   ADNI1    ADNI1  2006-03-13    AD   \n",
            "3    3  011_S_0003     m12    11   1   0   ADNI1    ADNI1  2006-09-12    AD   \n",
            "4    3  011_S_0003     m24    11   1   0   ADNI1    ADNI1  2007-09-12    AD   \n",
            "\n",
            "   ...  PHASE_UPENNBIOMK9_04_19_17  BATCH_UPENNBIOMK9_04_19_17  \\\n",
            "0  ...                                                           \n",
            "1  ...                       ADNI1                 UPENNBIOMK9   \n",
            "2  ...                                                           \n",
            "3  ...                       ADNI1                 UPENNBIOMK9   \n",
            "4  ...                                                           \n",
            "\n",
            "  KIT_UPENNBIOMK9_04_19_17  STDS_UPENNBIOMK9_04_19_17  \\\n",
            "0                                                       \n",
            "1            P06-MP02-MP01            P06-MP02-MP01/2   \n",
            "2                                                       \n",
            "3            P06-MP02-MP01            P06-MP02-MP01/2   \n",
            "4                                                       \n",
            "\n",
            "  RUNDATE_UPENNBIOMK9_04_19_17 ABETA_UPENNBIOMK9_04_19_17  \\\n",
            "0                                                           \n",
            "1                   2016-12-14                      741.5   \n",
            "2                                                           \n",
            "3                   2016-12-14                      601.4   \n",
            "4                                                           \n",
            "\n",
            "  TAU_UPENNBIOMK9_04_19_17  PTAU_UPENNBIOMK9_04_19_17  \\\n",
            "0                                                       \n",
            "1                    239.7                      22.83   \n",
            "2                                                       \n",
            "3                    251.7                      24.18   \n",
            "4                                                       \n",
            "\n",
            "   COMMENT_UPENNBIOMK9_04_19_17  update_stamp_UPENNBIOMK9_04_19_17  \n",
            "0                                                                   \n",
            "1                           NaN              2017-04-20 14:39:54.0  \n",
            "2                                                                   \n",
            "3                           NaN              2017-04-20 14:39:54.0  \n",
            "4                                                                   \n",
            "\n",
            "[5 rows x 1907 columns]\n"
          ]
        }
      ],
      "source": [
        "import pandas as pd\n",
        "Alzheimer_dataset=pd.read_csv('/content/drive/MyDrive/Alzheimer_ML/TADPOLE_D1_D2.csv/TADPOLE_D1_D2.csv')\n",
        "print(Alzheimer_dataset.head(5))"
      ]
    },
    {
      "cell_type": "markdown",
      "metadata": {
        "id": "sCWWFqvcNBOk"
      },
      "source": [
        "#### *Describe Data*\n",
        "\n",
        "1.Rows and columns of the dataset ✅\n",
        "\n",
        "2.column names of the dataset ✅\n",
        "\n",
        "3.Entries of the dataset ✅"
      ]
    },
    {
      "cell_type": "code",
      "execution_count": 2,
      "metadata": {
        "colab": {
          "base_uri": "https://localhost:8080/"
        },
        "id": "W4komqBza5Qs",
        "outputId": "e0ef98c0-ec0f-4e06-ab61-6f05c1c2d25d"
      },
      "outputs": [
        {
          "output_type": "execute_result",
          "data": {
            "text/plain": [
              "(12741, 1907)"
            ]
          },
          "metadata": {},
          "execution_count": 2
        }
      ],
      "source": [
        "# no of rows and columns\n",
        "Alzheimer_dataset.shape"
      ]
    },
    {
      "cell_type": "code",
      "execution_count": 3,
      "metadata": {
        "colab": {
          "base_uri": "https://localhost:8080/"
        },
        "id": "qIn_OR9iNeii",
        "outputId": "33c37bb8-d5c8-43e3-aa1c-1dc6d488c5ec"
      },
      "outputs": [
        {
          "output_type": "execute_result",
          "data": {
            "text/plain": [
              "Index(['RID', 'PTID', 'VISCODE', 'SITE', 'D1', 'D2', 'COLPROT', 'ORIGPROT',\n",
              "       'EXAMDATE', 'DX_bl',\n",
              "       ...\n",
              "       'PHASE_UPENNBIOMK9_04_19_17', 'BATCH_UPENNBIOMK9_04_19_17',\n",
              "       'KIT_UPENNBIOMK9_04_19_17', 'STDS_UPENNBIOMK9_04_19_17',\n",
              "       'RUNDATE_UPENNBIOMK9_04_19_17', 'ABETA_UPENNBIOMK9_04_19_17',\n",
              "       'TAU_UPENNBIOMK9_04_19_17', 'PTAU_UPENNBIOMK9_04_19_17',\n",
              "       'COMMENT_UPENNBIOMK9_04_19_17', 'update_stamp_UPENNBIOMK9_04_19_17'],\n",
              "      dtype='object', length=1907)"
            ]
          },
          "metadata": {},
          "execution_count": 3
        }
      ],
      "source": [
        "Alzheimer_dataset.columns"
      ]
    },
    {
      "cell_type": "code",
      "execution_count": 4,
      "metadata": {
        "colab": {
          "base_uri": "https://localhost:8080/"
        },
        "id": "BvscxyAsOdH-",
        "outputId": "5d7e6c25-210a-404b-aa55-c8ae2627ab2f"
      },
      "outputs": [
        {
          "output_type": "stream",
          "name": "stdout",
          "text": [
            "<class 'pandas.core.frame.DataFrame'>\n",
            "RangeIndex: 12741 entries, 0 to 12740\n",
            "Columns: 1907 entries, RID to update_stamp_UPENNBIOMK9_04_19_17\n",
            "dtypes: float64(72), int64(8), object(1827)\n",
            "memory usage: 185.4+ MB\n"
          ]
        }
      ],
      "source": [
        "Alzheimer_dataset.info()"
      ]
    },
    {
      "cell_type": "markdown",
      "metadata": {
        "id": "VZbCTBgEO6Ln"
      },
      "source": [
        "#### *Preprocess Data*\n",
        "\n",
        "selecting 28 attributes and removing the null values in the rows ✅"
      ]
    },
    {
      "cell_type": "code",
      "execution_count": 5,
      "metadata": {
        "id": "8aXqvP7Oxtpe"
      },
      "outputs": [],
      "source": [
        "selected_features = ['RID','VISCODE','SITE','AGE','PTGENDER','PTEDUCAT','PTETHCAT',\n",
        "'PTRACCAT','PTMARRY','Years_bl','CDRSB_bl','ADAS11_bl','ADAS13_bl',\n",
        "'MMSE_bl','RAVLT_immediate_bl','RAVLT_learning_bl',\n",
        "'RAVLT_forgetting_bl','RAVLT_perc_forgetting_bl','FAQ_bl','APOE4','Hippocampus_bl','Ventricles_bl',\n",
        "'WholeBrain_bl','Entorhinal_bl','Fusiform_bl','MidTemp_bl','ICV','DX']\n",
        "Alzheimer_dataset=Alzheimer_dataset[selected_features]"
      ]
    },
    {
      "cell_type": "code",
      "execution_count": 6,
      "metadata": {
        "colab": {
          "base_uri": "https://localhost:8080/"
        },
        "id": "v4kGqaL11Dqm",
        "outputId": "b169ce08-a79b-4cb0-cbc5-f780a22d5e9b"
      },
      "outputs": [
        {
          "output_type": "execute_result",
          "data": {
            "text/plain": [
              "(12741, 28)"
            ]
          },
          "metadata": {},
          "execution_count": 6
        }
      ],
      "source": [
        "Alzheimer_dataset.shape"
      ]
    },
    {
      "cell_type": "code",
      "execution_count": 7,
      "metadata": {
        "colab": {
          "base_uri": "https://localhost:8080/",
          "height": 962
        },
        "id": "pFL08pDy2j3y",
        "outputId": "a922d962-64c6-4ae5-ba92-7c8415bdaaf3"
      },
      "outputs": [
        {
          "output_type": "execute_result",
          "data": {
            "text/plain": [
              "RID                            0\n",
              "VISCODE                        0\n",
              "SITE                           0\n",
              "AGE                            0\n",
              "PTGENDER                       0\n",
              "PTEDUCAT                       0\n",
              "PTETHCAT                       0\n",
              "PTRACCAT                       0\n",
              "PTMARRY                        0\n",
              "Years_bl                       0\n",
              "CDRSB_bl                       0\n",
              "ADAS11_bl                     17\n",
              "ADAS13_bl                     78\n",
              "MMSE_bl                        0\n",
              "RAVLT_immediate_bl            36\n",
              "RAVLT_learning_bl             36\n",
              "RAVLT_forgetting_bl           36\n",
              "RAVLT_perc_forgetting_bl      57\n",
              "FAQ_bl                        45\n",
              "APOE4                         12\n",
              "Hippocampus_bl              1781\n",
              "Ventricles_bl                490\n",
              "WholeBrain_bl                249\n",
              "Entorhinal_bl               1894\n",
              "Fusiform_bl                 1894\n",
              "MidTemp_bl                  1894\n",
              "ICV                         4788\n",
              "DX                          3837\n",
              "dtype: int64"
            ],
            "text/html": [
              "<div>\n",
              "<style scoped>\n",
              "    .dataframe tbody tr th:only-of-type {\n",
              "        vertical-align: middle;\n",
              "    }\n",
              "\n",
              "    .dataframe tbody tr th {\n",
              "        vertical-align: top;\n",
              "    }\n",
              "\n",
              "    .dataframe thead th {\n",
              "        text-align: right;\n",
              "    }\n",
              "</style>\n",
              "<table border=\"1\" class=\"dataframe\">\n",
              "  <thead>\n",
              "    <tr style=\"text-align: right;\">\n",
              "      <th></th>\n",
              "      <th>0</th>\n",
              "    </tr>\n",
              "  </thead>\n",
              "  <tbody>\n",
              "    <tr>\n",
              "      <th>RID</th>\n",
              "      <td>0</td>\n",
              "    </tr>\n",
              "    <tr>\n",
              "      <th>VISCODE</th>\n",
              "      <td>0</td>\n",
              "    </tr>\n",
              "    <tr>\n",
              "      <th>SITE</th>\n",
              "      <td>0</td>\n",
              "    </tr>\n",
              "    <tr>\n",
              "      <th>AGE</th>\n",
              "      <td>0</td>\n",
              "    </tr>\n",
              "    <tr>\n",
              "      <th>PTGENDER</th>\n",
              "      <td>0</td>\n",
              "    </tr>\n",
              "    <tr>\n",
              "      <th>PTEDUCAT</th>\n",
              "      <td>0</td>\n",
              "    </tr>\n",
              "    <tr>\n",
              "      <th>PTETHCAT</th>\n",
              "      <td>0</td>\n",
              "    </tr>\n",
              "    <tr>\n",
              "      <th>PTRACCAT</th>\n",
              "      <td>0</td>\n",
              "    </tr>\n",
              "    <tr>\n",
              "      <th>PTMARRY</th>\n",
              "      <td>0</td>\n",
              "    </tr>\n",
              "    <tr>\n",
              "      <th>Years_bl</th>\n",
              "      <td>0</td>\n",
              "    </tr>\n",
              "    <tr>\n",
              "      <th>CDRSB_bl</th>\n",
              "      <td>0</td>\n",
              "    </tr>\n",
              "    <tr>\n",
              "      <th>ADAS11_bl</th>\n",
              "      <td>17</td>\n",
              "    </tr>\n",
              "    <tr>\n",
              "      <th>ADAS13_bl</th>\n",
              "      <td>78</td>\n",
              "    </tr>\n",
              "    <tr>\n",
              "      <th>MMSE_bl</th>\n",
              "      <td>0</td>\n",
              "    </tr>\n",
              "    <tr>\n",
              "      <th>RAVLT_immediate_bl</th>\n",
              "      <td>36</td>\n",
              "    </tr>\n",
              "    <tr>\n",
              "      <th>RAVLT_learning_bl</th>\n",
              "      <td>36</td>\n",
              "    </tr>\n",
              "    <tr>\n",
              "      <th>RAVLT_forgetting_bl</th>\n",
              "      <td>36</td>\n",
              "    </tr>\n",
              "    <tr>\n",
              "      <th>RAVLT_perc_forgetting_bl</th>\n",
              "      <td>57</td>\n",
              "    </tr>\n",
              "    <tr>\n",
              "      <th>FAQ_bl</th>\n",
              "      <td>45</td>\n",
              "    </tr>\n",
              "    <tr>\n",
              "      <th>APOE4</th>\n",
              "      <td>12</td>\n",
              "    </tr>\n",
              "    <tr>\n",
              "      <th>Hippocampus_bl</th>\n",
              "      <td>1781</td>\n",
              "    </tr>\n",
              "    <tr>\n",
              "      <th>Ventricles_bl</th>\n",
              "      <td>490</td>\n",
              "    </tr>\n",
              "    <tr>\n",
              "      <th>WholeBrain_bl</th>\n",
              "      <td>249</td>\n",
              "    </tr>\n",
              "    <tr>\n",
              "      <th>Entorhinal_bl</th>\n",
              "      <td>1894</td>\n",
              "    </tr>\n",
              "    <tr>\n",
              "      <th>Fusiform_bl</th>\n",
              "      <td>1894</td>\n",
              "    </tr>\n",
              "    <tr>\n",
              "      <th>MidTemp_bl</th>\n",
              "      <td>1894</td>\n",
              "    </tr>\n",
              "    <tr>\n",
              "      <th>ICV</th>\n",
              "      <td>4788</td>\n",
              "    </tr>\n",
              "    <tr>\n",
              "      <th>DX</th>\n",
              "      <td>3837</td>\n",
              "    </tr>\n",
              "  </tbody>\n",
              "</table>\n",
              "</div><br><label><b>dtype:</b> int64</label>"
            ]
          },
          "metadata": {},
          "execution_count": 7
        }
      ],
      "source": [
        "Alzheimer_dataset.isnull().sum()"
      ]
    },
    {
      "cell_type": "code",
      "execution_count": 8,
      "metadata": {
        "id": "Rl_xj7ed4ZyI"
      },
      "outputs": [],
      "source": [
        "Alzheimer_dataset=Alzheimer_dataset.dropna()"
      ]
    },
    {
      "cell_type": "code",
      "execution_count": 9,
      "metadata": {
        "colab": {
          "base_uri": "https://localhost:8080/",
          "height": 962
        },
        "id": "5xS3T8Wf4feo",
        "outputId": "cb5c6b68-aca6-46e7-e7ca-942d3cb48047"
      },
      "outputs": [
        {
          "output_type": "execute_result",
          "data": {
            "text/plain": [
              "RID                         0\n",
              "VISCODE                     0\n",
              "SITE                        0\n",
              "AGE                         0\n",
              "PTGENDER                    0\n",
              "PTEDUCAT                    0\n",
              "PTETHCAT                    0\n",
              "PTRACCAT                    0\n",
              "PTMARRY                     0\n",
              "Years_bl                    0\n",
              "CDRSB_bl                    0\n",
              "ADAS11_bl                   0\n",
              "ADAS13_bl                   0\n",
              "MMSE_bl                     0\n",
              "RAVLT_immediate_bl          0\n",
              "RAVLT_learning_bl           0\n",
              "RAVLT_forgetting_bl         0\n",
              "RAVLT_perc_forgetting_bl    0\n",
              "FAQ_bl                      0\n",
              "APOE4                       0\n",
              "Hippocampus_bl              0\n",
              "Ventricles_bl               0\n",
              "WholeBrain_bl               0\n",
              "Entorhinal_bl               0\n",
              "Fusiform_bl                 0\n",
              "MidTemp_bl                  0\n",
              "ICV                         0\n",
              "DX                          0\n",
              "dtype: int64"
            ],
            "text/html": [
              "<div>\n",
              "<style scoped>\n",
              "    .dataframe tbody tr th:only-of-type {\n",
              "        vertical-align: middle;\n",
              "    }\n",
              "\n",
              "    .dataframe tbody tr th {\n",
              "        vertical-align: top;\n",
              "    }\n",
              "\n",
              "    .dataframe thead th {\n",
              "        text-align: right;\n",
              "    }\n",
              "</style>\n",
              "<table border=\"1\" class=\"dataframe\">\n",
              "  <thead>\n",
              "    <tr style=\"text-align: right;\">\n",
              "      <th></th>\n",
              "      <th>0</th>\n",
              "    </tr>\n",
              "  </thead>\n",
              "  <tbody>\n",
              "    <tr>\n",
              "      <th>RID</th>\n",
              "      <td>0</td>\n",
              "    </tr>\n",
              "    <tr>\n",
              "      <th>VISCODE</th>\n",
              "      <td>0</td>\n",
              "    </tr>\n",
              "    <tr>\n",
              "      <th>SITE</th>\n",
              "      <td>0</td>\n",
              "    </tr>\n",
              "    <tr>\n",
              "      <th>AGE</th>\n",
              "      <td>0</td>\n",
              "    </tr>\n",
              "    <tr>\n",
              "      <th>PTGENDER</th>\n",
              "      <td>0</td>\n",
              "    </tr>\n",
              "    <tr>\n",
              "      <th>PTEDUCAT</th>\n",
              "      <td>0</td>\n",
              "    </tr>\n",
              "    <tr>\n",
              "      <th>PTETHCAT</th>\n",
              "      <td>0</td>\n",
              "    </tr>\n",
              "    <tr>\n",
              "      <th>PTRACCAT</th>\n",
              "      <td>0</td>\n",
              "    </tr>\n",
              "    <tr>\n",
              "      <th>PTMARRY</th>\n",
              "      <td>0</td>\n",
              "    </tr>\n",
              "    <tr>\n",
              "      <th>Years_bl</th>\n",
              "      <td>0</td>\n",
              "    </tr>\n",
              "    <tr>\n",
              "      <th>CDRSB_bl</th>\n",
              "      <td>0</td>\n",
              "    </tr>\n",
              "    <tr>\n",
              "      <th>ADAS11_bl</th>\n",
              "      <td>0</td>\n",
              "    </tr>\n",
              "    <tr>\n",
              "      <th>ADAS13_bl</th>\n",
              "      <td>0</td>\n",
              "    </tr>\n",
              "    <tr>\n",
              "      <th>MMSE_bl</th>\n",
              "      <td>0</td>\n",
              "    </tr>\n",
              "    <tr>\n",
              "      <th>RAVLT_immediate_bl</th>\n",
              "      <td>0</td>\n",
              "    </tr>\n",
              "    <tr>\n",
              "      <th>RAVLT_learning_bl</th>\n",
              "      <td>0</td>\n",
              "    </tr>\n",
              "    <tr>\n",
              "      <th>RAVLT_forgetting_bl</th>\n",
              "      <td>0</td>\n",
              "    </tr>\n",
              "    <tr>\n",
              "      <th>RAVLT_perc_forgetting_bl</th>\n",
              "      <td>0</td>\n",
              "    </tr>\n",
              "    <tr>\n",
              "      <th>FAQ_bl</th>\n",
              "      <td>0</td>\n",
              "    </tr>\n",
              "    <tr>\n",
              "      <th>APOE4</th>\n",
              "      <td>0</td>\n",
              "    </tr>\n",
              "    <tr>\n",
              "      <th>Hippocampus_bl</th>\n",
              "      <td>0</td>\n",
              "    </tr>\n",
              "    <tr>\n",
              "      <th>Ventricles_bl</th>\n",
              "      <td>0</td>\n",
              "    </tr>\n",
              "    <tr>\n",
              "      <th>WholeBrain_bl</th>\n",
              "      <td>0</td>\n",
              "    </tr>\n",
              "    <tr>\n",
              "      <th>Entorhinal_bl</th>\n",
              "      <td>0</td>\n",
              "    </tr>\n",
              "    <tr>\n",
              "      <th>Fusiform_bl</th>\n",
              "      <td>0</td>\n",
              "    </tr>\n",
              "    <tr>\n",
              "      <th>MidTemp_bl</th>\n",
              "      <td>0</td>\n",
              "    </tr>\n",
              "    <tr>\n",
              "      <th>ICV</th>\n",
              "      <td>0</td>\n",
              "    </tr>\n",
              "    <tr>\n",
              "      <th>DX</th>\n",
              "      <td>0</td>\n",
              "    </tr>\n",
              "  </tbody>\n",
              "</table>\n",
              "</div><br><label><b>dtype:</b> int64</label>"
            ]
          },
          "metadata": {},
          "execution_count": 9
        }
      ],
      "source": [
        "Alzheimer_dataset.isnull().sum()"
      ]
    },
    {
      "cell_type": "code",
      "execution_count": 10,
      "metadata": {
        "colab": {
          "base_uri": "https://localhost:8080/"
        },
        "id": "iDjypBce4sNs",
        "outputId": "802d7a67-9457-48a6-cb6b-613ab4620f17"
      },
      "outputs": [
        {
          "output_type": "execute_result",
          "data": {
            "text/plain": [
              "(5694, 28)"
            ]
          },
          "metadata": {},
          "execution_count": 10
        }
      ],
      "source": [
        "Alzheimer_dataset.shape"
      ]
    },
    {
      "cell_type": "code",
      "execution_count": 11,
      "metadata": {
        "id": "mYjdjPnCLzPf"
      },
      "outputs": [],
      "source": [
        "#import dataset to the local computer\n",
        "Alzheimer_dataset.to_csv('Alzheimer_dataset.csv')"
      ]
    },
    {
      "cell_type": "markdown",
      "metadata": {
        "id": "ObMF0KOQQZLT"
      },
      "source": [
        "## Getting our Data ready"
      ]
    },
    {
      "cell_type": "code",
      "execution_count": 12,
      "metadata": {
        "id": "qWpgHDhxNiiL"
      },
      "outputs": [],
      "source": [
        "# Finding Target value and features\n",
        "X=Alzheimer_dataset.drop('DX',axis=1)\n",
        "y=Alzheimer_dataset['DX']"
      ]
    },
    {
      "cell_type": "code",
      "execution_count": 13,
      "metadata": {
        "id": "HdNWXkF-WK-b"
      },
      "outputs": [],
      "source": [
        "# train and test dataset\n",
        "from sklearn.model_selection import train_test_split\n",
        "X_train,X_test,y_train,y_test=train_test_split(X,\n",
        "                                               y,\n",
        "                                               test_size=0.2)"
      ]
    },
    {
      "cell_type": "code",
      "execution_count": 14,
      "metadata": {
        "colab": {
          "base_uri": "https://localhost:8080/"
        },
        "id": "EXh4LtDGWeLz",
        "outputId": "4ea8a87a-1ab0-4501-f58d-ce6a1c4248db"
      },
      "outputs": [
        {
          "output_type": "execute_result",
          "data": {
            "text/plain": [
              "((4555, 27), (1139, 27), (4555,), (1139,))"
            ]
          },
          "metadata": {},
          "execution_count": 14
        }
      ],
      "source": [
        "X_train.shape,X_test.shape,y_train.shape,y_test.shape"
      ]
    },
    {
      "cell_type": "markdown",
      "metadata": {
        "id": "EFIVn1sROKqx"
      },
      "source": [
        "## 🐱 Implemenation of Various Classification Algorithms\n",
        "\n",
        "* Random Forest Classifier -89%\n",
        "\n",
        "* Decision Tree -85%\n",
        "\n",
        "* Logistic Regression -85%\n",
        "\n",
        "* Support Vector Classifier -86%\n",
        "\n",
        "* Bagging -89%\n",
        "\n",
        "* XGBoost -90%\n",
        "\n",
        "* Stacking -89%\n",
        "\n",
        "* Blending - 88%\n",
        "\n",
        " ## Evaluation Metrics\n",
        "\n",
        " 1. Accuracy\n",
        "\n",
        " 2. Classification  Report\n",
        "\n",
        " 3. Confusion Matrix\n",
        "\n",
        "    A confusion matrix is a quick way to compare the labels a model predicts and the actual labels it was supposed to predict. Giving an idea of where the model is getting confused.\n",
        "\n",
        "\n",
        "\n",
        "\n",
        "\n"
      ]
    },
    {
      "cell_type": "markdown",
      "metadata": {
        "id": "6pCGlLaTDtrN"
      },
      "source": [
        "###### OneHotEncoding"
      ]
    },
    {
      "cell_type": "code",
      "execution_count": 15,
      "metadata": {
        "colab": {
          "base_uri": "https://localhost:8080/"
        },
        "id": "e0sTnOkJZR7L",
        "outputId": "fa453a75-7cf2-4c94-abf9-f17c13ef4c79"
      },
      "outputs": [
        {
          "output_type": "execute_result",
          "data": {
            "text/plain": [
              "array([[0.00000e+00, 1.00000e+00, 0.00000e+00, ..., 1.65590e+04,\n",
              "        2.79360e+04, 1.98466e+06],\n",
              "       [0.00000e+00, 1.00000e+00, 0.00000e+00, ..., 1.55060e+04,\n",
              "        1.84220e+04, 1.92069e+06],\n",
              "       [0.00000e+00, 1.00000e+00, 0.00000e+00, ..., 1.55060e+04,\n",
              "        1.84220e+04, 1.90643e+06],\n",
              "       ...,\n",
              "       [0.00000e+00, 1.00000e+00, 0.00000e+00, ..., 1.94760e+04,\n",
              "        1.96880e+04, 1.56393e+06],\n",
              "       [0.00000e+00, 1.00000e+00, 0.00000e+00, ..., 2.01760e+04,\n",
              "        1.93430e+04, 1.64506e+06],\n",
              "       [0.00000e+00, 1.00000e+00, 0.00000e+00, ..., 2.00770e+04,\n",
              "        2.33310e+04, 1.57966e+06]])"
            ]
          },
          "metadata": {},
          "execution_count": 15
        }
      ],
      "source": [
        "from sklearn.preprocessing import OneHotEncoder\n",
        "from sklearn.compose import ColumnTransformer\n",
        "categorical_feature=['PTGENDER','PTETHCAT','PTRACCAT','PTMARRY','VISCODE']\n",
        "one_hot=OneHotEncoder()\n",
        "transformer=ColumnTransformer([('one_hot',one_hot,categorical_feature)],remainder='passthrough')\n",
        "transformed_X=transformer.fit_transform(X)\n",
        "transformed_X"
      ]
    },
    {
      "cell_type": "code",
      "execution_count": 16,
      "metadata": {
        "colab": {
          "base_uri": "https://localhost:8080/",
          "height": 423
        },
        "id": "3GE9N9tbai2Y",
        "outputId": "ec80f8c5-6d13-46bc-aebc-d4ae54e5998e"
      },
      "outputs": [
        {
          "output_type": "execute_result",
          "data": {
            "text/plain": [
              "       0    1    2    3    4    5    6    7    8    9   ...        42    43  \\\n",
              "0     0.0  1.0  0.0  1.0  0.0  0.0  0.0  0.0  0.0  0.0  ...   54.5455   0.0   \n",
              "1     0.0  1.0  0.0  1.0  0.0  0.0  0.0  0.0  0.0  0.0  ...  100.0000  10.0   \n",
              "2     0.0  1.0  0.0  1.0  0.0  0.0  0.0  0.0  0.0  0.0  ...  100.0000  10.0   \n",
              "3     0.0  1.0  0.0  1.0  0.0  0.0  0.0  0.0  0.0  0.0  ...  100.0000  10.0   \n",
              "4     0.0  1.0  0.0  1.0  0.0  0.0  0.0  0.0  0.0  0.0  ...  100.0000  10.0   \n",
              "...   ...  ...  ...  ...  ...  ...  ...  ...  ...  ...  ...       ...   ...   \n",
              "5689  1.0  0.0  0.0  1.0  0.0  0.0  0.0  0.0  0.0  0.0  ...   21.4286   0.0   \n",
              "5690  1.0  0.0  0.0  1.0  0.0  0.0  0.0  0.0  0.0  0.0  ...   33.3333   0.0   \n",
              "5691  0.0  1.0  0.0  1.0  0.0  0.0  0.0  0.0  0.0  0.0  ...   18.1818   0.0   \n",
              "5692  0.0  1.0  0.0  1.0  0.0  0.0  0.0  0.0  0.0  0.0  ...   27.2727   0.0   \n",
              "5693  0.0  1.0  0.0  1.0  0.0  0.0  0.0  0.0  0.0  0.0  ...   75.0000   0.0   \n",
              "\n",
              "       44      45        46         47      48       49       50         51  \n",
              "0     0.0  8336.0  118233.0  1229740.0  4177.0  16559.0  27936.0  1984660.0  \n",
              "1     1.0  5319.0   84599.0  1129830.0  1791.0  15506.0  18422.0  1920690.0  \n",
              "2     1.0  5319.0   84599.0  1129830.0  1791.0  15506.0  18422.0  1906430.0  \n",
              "3     1.0  5319.0   84599.0  1129830.0  1791.0  15506.0  18422.0  1903820.0  \n",
              "4     1.0  5319.0   84599.0  1129830.0  1791.0  15506.0  18422.0  1903420.0  \n",
              "...   ...     ...       ...        ...     ...      ...      ...        ...  \n",
              "5689  0.0  8697.0   40036.0  1031260.0  3650.0  16239.0  22074.0  1476270.0  \n",
              "5690  0.0  7330.0   15734.0   991574.0  4236.0  22138.0  19106.0  1383090.0  \n",
              "5691  0.0  9252.0   23867.0  1190660.0  3798.0  19476.0  19688.0  1563930.0  \n",
              "5692  0.0  7610.0   39270.0  1112890.0  4181.0  20176.0  19343.0  1645060.0  \n",
              "5693  0.0  9217.0   24517.0  1145400.0  4627.0  20077.0  23331.0  1579660.0  \n",
              "\n",
              "[5694 rows x 52 columns]"
            ],
            "text/html": [
              "\n",
              "  <div id=\"df-dc1e032b-c8db-4b30-ba7c-26abcaa04cd0\" class=\"colab-df-container\">\n",
              "    <div>\n",
              "<style scoped>\n",
              "    .dataframe tbody tr th:only-of-type {\n",
              "        vertical-align: middle;\n",
              "    }\n",
              "\n",
              "    .dataframe tbody tr th {\n",
              "        vertical-align: top;\n",
              "    }\n",
              "\n",
              "    .dataframe thead th {\n",
              "        text-align: right;\n",
              "    }\n",
              "</style>\n",
              "<table border=\"1\" class=\"dataframe\">\n",
              "  <thead>\n",
              "    <tr style=\"text-align: right;\">\n",
              "      <th></th>\n",
              "      <th>0</th>\n",
              "      <th>1</th>\n",
              "      <th>2</th>\n",
              "      <th>3</th>\n",
              "      <th>4</th>\n",
              "      <th>5</th>\n",
              "      <th>6</th>\n",
              "      <th>7</th>\n",
              "      <th>8</th>\n",
              "      <th>9</th>\n",
              "      <th>...</th>\n",
              "      <th>42</th>\n",
              "      <th>43</th>\n",
              "      <th>44</th>\n",
              "      <th>45</th>\n",
              "      <th>46</th>\n",
              "      <th>47</th>\n",
              "      <th>48</th>\n",
              "      <th>49</th>\n",
              "      <th>50</th>\n",
              "      <th>51</th>\n",
              "    </tr>\n",
              "  </thead>\n",
              "  <tbody>\n",
              "    <tr>\n",
              "      <th>0</th>\n",
              "      <td>0.0</td>\n",
              "      <td>1.0</td>\n",
              "      <td>0.0</td>\n",
              "      <td>1.0</td>\n",
              "      <td>0.0</td>\n",
              "      <td>0.0</td>\n",
              "      <td>0.0</td>\n",
              "      <td>0.0</td>\n",
              "      <td>0.0</td>\n",
              "      <td>0.0</td>\n",
              "      <td>...</td>\n",
              "      <td>54.5455</td>\n",
              "      <td>0.0</td>\n",
              "      <td>0.0</td>\n",
              "      <td>8336.0</td>\n",
              "      <td>118233.0</td>\n",
              "      <td>1229740.0</td>\n",
              "      <td>4177.0</td>\n",
              "      <td>16559.0</td>\n",
              "      <td>27936.0</td>\n",
              "      <td>1984660.0</td>\n",
              "    </tr>\n",
              "    <tr>\n",
              "      <th>1</th>\n",
              "      <td>0.0</td>\n",
              "      <td>1.0</td>\n",
              "      <td>0.0</td>\n",
              "      <td>1.0</td>\n",
              "      <td>0.0</td>\n",
              "      <td>0.0</td>\n",
              "      <td>0.0</td>\n",
              "      <td>0.0</td>\n",
              "      <td>0.0</td>\n",
              "      <td>0.0</td>\n",
              "      <td>...</td>\n",
              "      <td>100.0000</td>\n",
              "      <td>10.0</td>\n",
              "      <td>1.0</td>\n",
              "      <td>5319.0</td>\n",
              "      <td>84599.0</td>\n",
              "      <td>1129830.0</td>\n",
              "      <td>1791.0</td>\n",
              "      <td>15506.0</td>\n",
              "      <td>18422.0</td>\n",
              "      <td>1920690.0</td>\n",
              "    </tr>\n",
              "    <tr>\n",
              "      <th>2</th>\n",
              "      <td>0.0</td>\n",
              "      <td>1.0</td>\n",
              "      <td>0.0</td>\n",
              "      <td>1.0</td>\n",
              "      <td>0.0</td>\n",
              "      <td>0.0</td>\n",
              "      <td>0.0</td>\n",
              "      <td>0.0</td>\n",
              "      <td>0.0</td>\n",
              "      <td>0.0</td>\n",
              "      <td>...</td>\n",
              "      <td>100.0000</td>\n",
              "      <td>10.0</td>\n",
              "      <td>1.0</td>\n",
              "      <td>5319.0</td>\n",
              "      <td>84599.0</td>\n",
              "      <td>1129830.0</td>\n",
              "      <td>1791.0</td>\n",
              "      <td>15506.0</td>\n",
              "      <td>18422.0</td>\n",
              "      <td>1906430.0</td>\n",
              "    </tr>\n",
              "    <tr>\n",
              "      <th>3</th>\n",
              "      <td>0.0</td>\n",
              "      <td>1.0</td>\n",
              "      <td>0.0</td>\n",
              "      <td>1.0</td>\n",
              "      <td>0.0</td>\n",
              "      <td>0.0</td>\n",
              "      <td>0.0</td>\n",
              "      <td>0.0</td>\n",
              "      <td>0.0</td>\n",
              "      <td>0.0</td>\n",
              "      <td>...</td>\n",
              "      <td>100.0000</td>\n",
              "      <td>10.0</td>\n",
              "      <td>1.0</td>\n",
              "      <td>5319.0</td>\n",
              "      <td>84599.0</td>\n",
              "      <td>1129830.0</td>\n",
              "      <td>1791.0</td>\n",
              "      <td>15506.0</td>\n",
              "      <td>18422.0</td>\n",
              "      <td>1903820.0</td>\n",
              "    </tr>\n",
              "    <tr>\n",
              "      <th>4</th>\n",
              "      <td>0.0</td>\n",
              "      <td>1.0</td>\n",
              "      <td>0.0</td>\n",
              "      <td>1.0</td>\n",
              "      <td>0.0</td>\n",
              "      <td>0.0</td>\n",
              "      <td>0.0</td>\n",
              "      <td>0.0</td>\n",
              "      <td>0.0</td>\n",
              "      <td>0.0</td>\n",
              "      <td>...</td>\n",
              "      <td>100.0000</td>\n",
              "      <td>10.0</td>\n",
              "      <td>1.0</td>\n",
              "      <td>5319.0</td>\n",
              "      <td>84599.0</td>\n",
              "      <td>1129830.0</td>\n",
              "      <td>1791.0</td>\n",
              "      <td>15506.0</td>\n",
              "      <td>18422.0</td>\n",
              "      <td>1903420.0</td>\n",
              "    </tr>\n",
              "    <tr>\n",
              "      <th>...</th>\n",
              "      <td>...</td>\n",
              "      <td>...</td>\n",
              "      <td>...</td>\n",
              "      <td>...</td>\n",
              "      <td>...</td>\n",
              "      <td>...</td>\n",
              "      <td>...</td>\n",
              "      <td>...</td>\n",
              "      <td>...</td>\n",
              "      <td>...</td>\n",
              "      <td>...</td>\n",
              "      <td>...</td>\n",
              "      <td>...</td>\n",
              "      <td>...</td>\n",
              "      <td>...</td>\n",
              "      <td>...</td>\n",
              "      <td>...</td>\n",
              "      <td>...</td>\n",
              "      <td>...</td>\n",
              "      <td>...</td>\n",
              "      <td>...</td>\n",
              "    </tr>\n",
              "    <tr>\n",
              "      <th>5689</th>\n",
              "      <td>1.0</td>\n",
              "      <td>0.0</td>\n",
              "      <td>0.0</td>\n",
              "      <td>1.0</td>\n",
              "      <td>0.0</td>\n",
              "      <td>0.0</td>\n",
              "      <td>0.0</td>\n",
              "      <td>0.0</td>\n",
              "      <td>0.0</td>\n",
              "      <td>0.0</td>\n",
              "      <td>...</td>\n",
              "      <td>21.4286</td>\n",
              "      <td>0.0</td>\n",
              "      <td>0.0</td>\n",
              "      <td>8697.0</td>\n",
              "      <td>40036.0</td>\n",
              "      <td>1031260.0</td>\n",
              "      <td>3650.0</td>\n",
              "      <td>16239.0</td>\n",
              "      <td>22074.0</td>\n",
              "      <td>1476270.0</td>\n",
              "    </tr>\n",
              "    <tr>\n",
              "      <th>5690</th>\n",
              "      <td>1.0</td>\n",
              "      <td>0.0</td>\n",
              "      <td>0.0</td>\n",
              "      <td>1.0</td>\n",
              "      <td>0.0</td>\n",
              "      <td>0.0</td>\n",
              "      <td>0.0</td>\n",
              "      <td>0.0</td>\n",
              "      <td>0.0</td>\n",
              "      <td>0.0</td>\n",
              "      <td>...</td>\n",
              "      <td>33.3333</td>\n",
              "      <td>0.0</td>\n",
              "      <td>0.0</td>\n",
              "      <td>7330.0</td>\n",
              "      <td>15734.0</td>\n",
              "      <td>991574.0</td>\n",
              "      <td>4236.0</td>\n",
              "      <td>22138.0</td>\n",
              "      <td>19106.0</td>\n",
              "      <td>1383090.0</td>\n",
              "    </tr>\n",
              "    <tr>\n",
              "      <th>5691</th>\n",
              "      <td>0.0</td>\n",
              "      <td>1.0</td>\n",
              "      <td>0.0</td>\n",
              "      <td>1.0</td>\n",
              "      <td>0.0</td>\n",
              "      <td>0.0</td>\n",
              "      <td>0.0</td>\n",
              "      <td>0.0</td>\n",
              "      <td>0.0</td>\n",
              "      <td>0.0</td>\n",
              "      <td>...</td>\n",
              "      <td>18.1818</td>\n",
              "      <td>0.0</td>\n",
              "      <td>0.0</td>\n",
              "      <td>9252.0</td>\n",
              "      <td>23867.0</td>\n",
              "      <td>1190660.0</td>\n",
              "      <td>3798.0</td>\n",
              "      <td>19476.0</td>\n",
              "      <td>19688.0</td>\n",
              "      <td>1563930.0</td>\n",
              "    </tr>\n",
              "    <tr>\n",
              "      <th>5692</th>\n",
              "      <td>0.0</td>\n",
              "      <td>1.0</td>\n",
              "      <td>0.0</td>\n",
              "      <td>1.0</td>\n",
              "      <td>0.0</td>\n",
              "      <td>0.0</td>\n",
              "      <td>0.0</td>\n",
              "      <td>0.0</td>\n",
              "      <td>0.0</td>\n",
              "      <td>0.0</td>\n",
              "      <td>...</td>\n",
              "      <td>27.2727</td>\n",
              "      <td>0.0</td>\n",
              "      <td>0.0</td>\n",
              "      <td>7610.0</td>\n",
              "      <td>39270.0</td>\n",
              "      <td>1112890.0</td>\n",
              "      <td>4181.0</td>\n",
              "      <td>20176.0</td>\n",
              "      <td>19343.0</td>\n",
              "      <td>1645060.0</td>\n",
              "    </tr>\n",
              "    <tr>\n",
              "      <th>5693</th>\n",
              "      <td>0.0</td>\n",
              "      <td>1.0</td>\n",
              "      <td>0.0</td>\n",
              "      <td>1.0</td>\n",
              "      <td>0.0</td>\n",
              "      <td>0.0</td>\n",
              "      <td>0.0</td>\n",
              "      <td>0.0</td>\n",
              "      <td>0.0</td>\n",
              "      <td>0.0</td>\n",
              "      <td>...</td>\n",
              "      <td>75.0000</td>\n",
              "      <td>0.0</td>\n",
              "      <td>0.0</td>\n",
              "      <td>9217.0</td>\n",
              "      <td>24517.0</td>\n",
              "      <td>1145400.0</td>\n",
              "      <td>4627.0</td>\n",
              "      <td>20077.0</td>\n",
              "      <td>23331.0</td>\n",
              "      <td>1579660.0</td>\n",
              "    </tr>\n",
              "  </tbody>\n",
              "</table>\n",
              "<p>5694 rows × 52 columns</p>\n",
              "</div>\n",
              "    <div class=\"colab-df-buttons\">\n",
              "\n",
              "  <div class=\"colab-df-container\">\n",
              "    <button class=\"colab-df-convert\" onclick=\"convertToInteractive('df-dc1e032b-c8db-4b30-ba7c-26abcaa04cd0')\"\n",
              "            title=\"Convert this dataframe to an interactive table.\"\n",
              "            style=\"display:none;\">\n",
              "\n",
              "  <svg xmlns=\"http://www.w3.org/2000/svg\" height=\"24px\" viewBox=\"0 -960 960 960\">\n",
              "    <path d=\"M120-120v-720h720v720H120Zm60-500h600v-160H180v160Zm220 220h160v-160H400v160Zm0 220h160v-160H400v160ZM180-400h160v-160H180v160Zm440 0h160v-160H620v160ZM180-180h160v-160H180v160Zm440 0h160v-160H620v160Z\"/>\n",
              "  </svg>\n",
              "    </button>\n",
              "\n",
              "  <style>\n",
              "    .colab-df-container {\n",
              "      display:flex;\n",
              "      gap: 12px;\n",
              "    }\n",
              "\n",
              "    .colab-df-convert {\n",
              "      background-color: #E8F0FE;\n",
              "      border: none;\n",
              "      border-radius: 50%;\n",
              "      cursor: pointer;\n",
              "      display: none;\n",
              "      fill: #1967D2;\n",
              "      height: 32px;\n",
              "      padding: 0 0 0 0;\n",
              "      width: 32px;\n",
              "    }\n",
              "\n",
              "    .colab-df-convert:hover {\n",
              "      background-color: #E2EBFA;\n",
              "      box-shadow: 0px 1px 2px rgba(60, 64, 67, 0.3), 0px 1px 3px 1px rgba(60, 64, 67, 0.15);\n",
              "      fill: #174EA6;\n",
              "    }\n",
              "\n",
              "    .colab-df-buttons div {\n",
              "      margin-bottom: 4px;\n",
              "    }\n",
              "\n",
              "    [theme=dark] .colab-df-convert {\n",
              "      background-color: #3B4455;\n",
              "      fill: #D2E3FC;\n",
              "    }\n",
              "\n",
              "    [theme=dark] .colab-df-convert:hover {\n",
              "      background-color: #434B5C;\n",
              "      box-shadow: 0px 1px 3px 1px rgba(0, 0, 0, 0.15);\n",
              "      filter: drop-shadow(0px 1px 2px rgba(0, 0, 0, 0.3));\n",
              "      fill: #FFFFFF;\n",
              "    }\n",
              "  </style>\n",
              "\n",
              "    <script>\n",
              "      const buttonEl =\n",
              "        document.querySelector('#df-dc1e032b-c8db-4b30-ba7c-26abcaa04cd0 button.colab-df-convert');\n",
              "      buttonEl.style.display =\n",
              "        google.colab.kernel.accessAllowed ? 'block' : 'none';\n",
              "\n",
              "      async function convertToInteractive(key) {\n",
              "        const element = document.querySelector('#df-dc1e032b-c8db-4b30-ba7c-26abcaa04cd0');\n",
              "        const dataTable =\n",
              "          await google.colab.kernel.invokeFunction('convertToInteractive',\n",
              "                                                    [key], {});\n",
              "        if (!dataTable) return;\n",
              "\n",
              "        const docLinkHtml = 'Like what you see? Visit the ' +\n",
              "          '<a target=\"_blank\" href=https://colab.research.google.com/notebooks/data_table.ipynb>data table notebook</a>'\n",
              "          + ' to learn more about interactive tables.';\n",
              "        element.innerHTML = '';\n",
              "        dataTable['output_type'] = 'display_data';\n",
              "        await google.colab.output.renderOutput(dataTable, element);\n",
              "        const docLink = document.createElement('div');\n",
              "        docLink.innerHTML = docLinkHtml;\n",
              "        element.appendChild(docLink);\n",
              "      }\n",
              "    </script>\n",
              "  </div>\n",
              "\n",
              "\n",
              "<div id=\"df-00decaa4-6607-4207-98eb-ffcc973cfca9\">\n",
              "  <button class=\"colab-df-quickchart\" onclick=\"quickchart('df-00decaa4-6607-4207-98eb-ffcc973cfca9')\"\n",
              "            title=\"Suggest charts\"\n",
              "            style=\"display:none;\">\n",
              "\n",
              "<svg xmlns=\"http://www.w3.org/2000/svg\" height=\"24px\"viewBox=\"0 0 24 24\"\n",
              "     width=\"24px\">\n",
              "    <g>\n",
              "        <path d=\"M19 3H5c-1.1 0-2 .9-2 2v14c0 1.1.9 2 2 2h14c1.1 0 2-.9 2-2V5c0-1.1-.9-2-2-2zM9 17H7v-7h2v7zm4 0h-2V7h2v10zm4 0h-2v-4h2v4z\"/>\n",
              "    </g>\n",
              "</svg>\n",
              "  </button>\n",
              "\n",
              "<style>\n",
              "  .colab-df-quickchart {\n",
              "      --bg-color: #E8F0FE;\n",
              "      --fill-color: #1967D2;\n",
              "      --hover-bg-color: #E2EBFA;\n",
              "      --hover-fill-color: #174EA6;\n",
              "      --disabled-fill-color: #AAA;\n",
              "      --disabled-bg-color: #DDD;\n",
              "  }\n",
              "\n",
              "  [theme=dark] .colab-df-quickchart {\n",
              "      --bg-color: #3B4455;\n",
              "      --fill-color: #D2E3FC;\n",
              "      --hover-bg-color: #434B5C;\n",
              "      --hover-fill-color: #FFFFFF;\n",
              "      --disabled-bg-color: #3B4455;\n",
              "      --disabled-fill-color: #666;\n",
              "  }\n",
              "\n",
              "  .colab-df-quickchart {\n",
              "    background-color: var(--bg-color);\n",
              "    border: none;\n",
              "    border-radius: 50%;\n",
              "    cursor: pointer;\n",
              "    display: none;\n",
              "    fill: var(--fill-color);\n",
              "    height: 32px;\n",
              "    padding: 0;\n",
              "    width: 32px;\n",
              "  }\n",
              "\n",
              "  .colab-df-quickchart:hover {\n",
              "    background-color: var(--hover-bg-color);\n",
              "    box-shadow: 0 1px 2px rgba(60, 64, 67, 0.3), 0 1px 3px 1px rgba(60, 64, 67, 0.15);\n",
              "    fill: var(--button-hover-fill-color);\n",
              "  }\n",
              "\n",
              "  .colab-df-quickchart-complete:disabled,\n",
              "  .colab-df-quickchart-complete:disabled:hover {\n",
              "    background-color: var(--disabled-bg-color);\n",
              "    fill: var(--disabled-fill-color);\n",
              "    box-shadow: none;\n",
              "  }\n",
              "\n",
              "  .colab-df-spinner {\n",
              "    border: 2px solid var(--fill-color);\n",
              "    border-color: transparent;\n",
              "    border-bottom-color: var(--fill-color);\n",
              "    animation:\n",
              "      spin 1s steps(1) infinite;\n",
              "  }\n",
              "\n",
              "  @keyframes spin {\n",
              "    0% {\n",
              "      border-color: transparent;\n",
              "      border-bottom-color: var(--fill-color);\n",
              "      border-left-color: var(--fill-color);\n",
              "    }\n",
              "    20% {\n",
              "      border-color: transparent;\n",
              "      border-left-color: var(--fill-color);\n",
              "      border-top-color: var(--fill-color);\n",
              "    }\n",
              "    30% {\n",
              "      border-color: transparent;\n",
              "      border-left-color: var(--fill-color);\n",
              "      border-top-color: var(--fill-color);\n",
              "      border-right-color: var(--fill-color);\n",
              "    }\n",
              "    40% {\n",
              "      border-color: transparent;\n",
              "      border-right-color: var(--fill-color);\n",
              "      border-top-color: var(--fill-color);\n",
              "    }\n",
              "    60% {\n",
              "      border-color: transparent;\n",
              "      border-right-color: var(--fill-color);\n",
              "    }\n",
              "    80% {\n",
              "      border-color: transparent;\n",
              "      border-right-color: var(--fill-color);\n",
              "      border-bottom-color: var(--fill-color);\n",
              "    }\n",
              "    90% {\n",
              "      border-color: transparent;\n",
              "      border-bottom-color: var(--fill-color);\n",
              "    }\n",
              "  }\n",
              "</style>\n",
              "\n",
              "  <script>\n",
              "    async function quickchart(key) {\n",
              "      const quickchartButtonEl =\n",
              "        document.querySelector('#' + key + ' button');\n",
              "      quickchartButtonEl.disabled = true;  // To prevent multiple clicks.\n",
              "      quickchartButtonEl.classList.add('colab-df-spinner');\n",
              "      try {\n",
              "        const charts = await google.colab.kernel.invokeFunction(\n",
              "            'suggestCharts', [key], {});\n",
              "      } catch (error) {\n",
              "        console.error('Error during call to suggestCharts:', error);\n",
              "      }\n",
              "      quickchartButtonEl.classList.remove('colab-df-spinner');\n",
              "      quickchartButtonEl.classList.add('colab-df-quickchart-complete');\n",
              "    }\n",
              "    (() => {\n",
              "      let quickchartButtonEl =\n",
              "        document.querySelector('#df-00decaa4-6607-4207-98eb-ffcc973cfca9 button');\n",
              "      quickchartButtonEl.style.display =\n",
              "        google.colab.kernel.accessAllowed ? 'block' : 'none';\n",
              "    })();\n",
              "  </script>\n",
              "</div>\n",
              "\n",
              "    </div>\n",
              "  </div>\n"
            ],
            "application/vnd.google.colaboratory.intrinsic+json": {
              "type": "dataframe"
            }
          },
          "metadata": {},
          "execution_count": 16
        }
      ],
      "source": [
        "# one Hot Encoded\n",
        "pd.DataFrame(transformed_X)"
      ]
    },
    {
      "cell_type": "markdown",
      "metadata": {
        "id": "2oZQ2bCJYUgV"
      },
      "source": [
        "#### Random Forest Classifier"
      ]
    },
    {
      "cell_type": "code",
      "execution_count": 17,
      "metadata": {
        "id": "a2ngQqaGYSeM"
      },
      "outputs": [],
      "source": [
        "# from sklearn.ensemble import RandomForestClassifier\n",
        "# clf=RandomForestClassifier(n_estimators=100)\n",
        "# clf.fit(X_train,y_train)\n",
        "# clf.score(X_test,y_test)\n",
        "# ValueError: could not convert string to float: 'm72' so we are doing One Hot Encoding"
      ]
    },
    {
      "cell_type": "code",
      "execution_count": 18,
      "metadata": {
        "colab": {
          "base_uri": "https://localhost:8080/"
        },
        "id": "rYzQJbwpaU1B",
        "outputId": "69aea9dd-16d3-44bf-b7ee-b53727160afa"
      },
      "outputs": [
        {
          "output_type": "stream",
          "name": "stdout",
          "text": [
            "Accuracy: 0.8902546093064091\n",
            "Rounded accuracy: 0.89\n",
            "\n",
            "\n",
            "Confusion Matrix:\n",
            " [[171  14   5   0   0   0]\n",
            " [  7 469  11   2   9   2]\n",
            " [  8  41   2   0   1   0]\n",
            " [  0   8   0   0   0   1]\n",
            " [  0   4   0   1 372   2]\n",
            " [  0   2   0   1   6   0]]\n",
            "\n",
            "Crosstab:\n",
            " Predictive labels  Dementia  MCI  MCI to Dementia  MCI to NL   NL  NL to MCI\n",
            "Actual Labels                                                               \n",
            "Dementia                171   14                5          0    0          0\n",
            "MCI                       7  469               11          2    9          2\n",
            "MCI to Dementia           8   41                2          0    1          0\n",
            "MCI to NL                 0    8                0          0    0          1\n",
            "NL                        0    4                0          1  372          2\n",
            "NL to MCI                 0    2                0          1    6          0\n",
            "\n",
            "\n",
            "\n",
            "Classification Report:\n",
            "                  precision    recall  f1-score   support\n",
            "\n",
            "       Dementia       0.92      0.90      0.91       190\n",
            "            MCI       0.87      0.94      0.90       500\n",
            "MCI to Dementia       0.11      0.04      0.06        52\n",
            "      MCI to NL       0.00      0.00      0.00         9\n",
            "             NL       0.96      0.98      0.97       379\n",
            "      NL to MCI       0.00      0.00      0.00         9\n",
            "\n",
            "       accuracy                           0.89      1139\n",
            "      macro avg       0.48      0.48      0.47      1139\n",
            "   weighted avg       0.86      0.89      0.87      1139\n",
            "\n"
          ]
        }
      ],
      "source": [
        "import numpy as np\n",
        "from sklearn.ensemble import RandomForestClassifier\n",
        "from sklearn.model_selection import train_test_split\n",
        "from sklearn.metrics import accuracy_score, confusion_matrix, classification_report\n",
        "\n",
        "np.random.seed(42)\n",
        "X_train, X_test, y_train, y_test = train_test_split(transformed_X, y, test_size=0.2)\n",
        "\n",
        "clf = RandomForestClassifier(n_estimators=100)\n",
        "clf.fit(X_train, y_train)\n",
        "\n",
        "# Make predictions on the test set\n",
        "y_pred = clf.predict(X_test)\n",
        "\n",
        "# Evaluate the model's performance\n",
        "accuracy = accuracy_score(y_test, y_pred)\n",
        "print(\"Accuracy:\", accuracy)\n",
        "rounded_accuracy = round(accuracy,2)\n",
        "print(\"Rounded accuracy:\", rounded_accuracy)\n",
        "print(\"\\n\")\n",
        "\n",
        "# Confusion Matrix\n",
        "confusion_matrix = confusion_matrix(y_test, y_pred)\n",
        "print(\"Confusion Matrix:\\n\", confusion_matrix)\n",
        "# Crosstab\n",
        "print(\"\\nCrosstab:\\n\", pd.crosstab(y_test, y_pred,rownames=['Actual Labels'], colnames=['Predictive labels']))\n",
        "# Classification Report (using the already predicted labels)\n",
        "print(\"\\n\")\n",
        "print(\"\\nClassification Report:\\n\", classification_report(y_test, y_pred))\n"
      ]
    },
    {
      "cell_type": "code",
      "execution_count": 19,
      "metadata": {
        "colab": {
          "base_uri": "https://localhost:8080/",
          "height": 438
        },
        "id": "2TFu8V52eKtE",
        "outputId": "e8af41bf-5093-4655-d3c5-0b9ce4345540"
      },
      "outputs": [
        {
          "output_type": "display_data",
          "data": {
            "text/plain": [
              "<Figure size 400x400 with 2 Axes>"
            ],
            "image/png": "[encoded data removed]"
          },
          "metadata": {}
        }
      ],
      "source": [
        "# confusion Matric using sklearn\n",
        "import seaborn as sns\n",
        "import matplotlib.pyplot as plt\n",
        "from sklearn.metrics import confusion_matrix # Re-import confusion_matrix\n",
        "\n",
        "# Set font scale for better readability\n",
        "sns.set(font_scale=1.5)\n",
        "\n",
        "# Calculate the confusion matrix (use a different variable name)\n",
        "cm = confusion_matrix(y_test, y_pred)\n",
        "\n",
        "# Create the figure and axis for the heatmap\n",
        "fig, ax = plt.subplots(figsize=(4, 4))\n",
        "\n",
        "# Create the heatmap, annotate values, and format them as integers\n",
        "sns.heatmap(cm, annot=True, fmt='d', cmap='Blues')\n",
        "\n",
        "# Set the title, x-label, and y-label\n",
        "plt.title('Confusion Matrix')\n",
        "plt.xlabel('Predicted Labels')\n",
        "plt.ylabel('True Labels')\n",
        "# Show the plot\n",
        "plt.show()"
      ]
    },
    {
      "cell_type": "markdown",
      "metadata": {
        "id": "nAmVEH7aF_Xm"
      },
      "source": [
        "#### Decision Tree"
      ]
    },
    {
      "cell_type": "code",
      "execution_count": 20,
      "metadata": {
        "colab": {
          "base_uri": "https://localhost:8080/"
        },
        "id": "IT0JcV18iAIo",
        "outputId": "4cfb674f-c899-4944-9064-d239c260ae76"
      },
      "outputs": [
        {
          "output_type": "stream",
          "name": "stdout",
          "text": [
            "Accuracy: 0.8481123792800702\n",
            "Rounded accuracy: 0.85\n",
            "\n",
            "\n",
            "                 precision    recall  f1-score   support\n",
            "\n",
            "       Dementia       0.85      0.83      0.84       190\n",
            "Dementia to MCI       0.00      0.00      0.00         0\n",
            "            MCI       0.87      0.89      0.88       500\n",
            "MCI to Dementia       0.16      0.13      0.15        52\n",
            "      MCI to NL       0.00      0.00      0.00         9\n",
            "             NL       0.96      0.94      0.95       379\n",
            "      NL to MCI       0.00      0.00      0.00         9\n",
            "\n",
            "       accuracy                           0.85      1139\n",
            "      macro avg       0.41      0.40      0.40      1139\n",
            "   weighted avg       0.85      0.85      0.85      1139\n",
            "\n"
          ]
        },
        {
          "output_type": "stream",
          "name": "stderr",
          "text": [
            "/usr/local/lib/python3.10/dist-packages/sklearn/metrics/_classification.py:1531: UndefinedMetricWarning: Recall is ill-defined and being set to 0.0 in labels with no true samples. Use `zero_division` parameter to control this behavior.\n",
            "  _warn_prf(average, modifier, f\"{metric.capitalize()} is\", len(result))\n",
            "/usr/local/lib/python3.10/dist-packages/sklearn/metrics/_classification.py:1531: UndefinedMetricWarning: Recall is ill-defined and being set to 0.0 in labels with no true samples. Use `zero_division` parameter to control this behavior.\n",
            "  _warn_prf(average, modifier, f\"{metric.capitalize()} is\", len(result))\n",
            "/usr/local/lib/python3.10/dist-packages/sklearn/metrics/_classification.py:1531: UndefinedMetricWarning: Recall is ill-defined and being set to 0.0 in labels with no true samples. Use `zero_division` parameter to control this behavior.\n",
            "  _warn_prf(average, modifier, f\"{metric.capitalize()} is\", len(result))\n"
          ]
        }
      ],
      "source": [
        "from sklearn.tree import DecisionTreeClassifier\n",
        "from sklearn.model_selection import train_test_split\n",
        "from sklearn.metrics import accuracy_score, classification_report\n",
        "np.random.seed(42)\n",
        "\n",
        "# Split the data into training and testing sets\n",
        "X_train,X_test,y_train,y_test=train_test_split(transformed_X,\n",
        "                                               y,\n",
        "                                               test_size=0.2)\n",
        "\n",
        "# Create a Decision Tree Classifier\n",
        "dt_clf = DecisionTreeClassifier(random_state=42)\n",
        "\n",
        "# Train the classifier\n",
        "dt_clf.fit(X_train, y_train)\n",
        "\n",
        "# Make predictions on the test set\n",
        "y_pred = dt_clf.predict(X_test)\n",
        "\n",
        "# Evaluate the model's performance\n",
        "accuracy = accuracy_score(y_test, y_pred)\n",
        "print(\"Accuracy:\", accuracy)\n",
        "rounded_accuracy = round(accuracy,2)\n",
        "print(\"Rounded accuracy:\", rounded_accuracy)\n",
        "print(\"\\n\")\n",
        "\n",
        "# Print classification report\n",
        "print(classification_report(y_test, y_pred))"
      ]
    },
    {
      "cell_type": "code",
      "execution_count": 21,
      "metadata": {
        "colab": {
          "base_uri": "https://localhost:8080/",
          "height": 438
        },
        "id": "L0siI1U3BhCj",
        "outputId": "5eb9233b-76e8-47bf-c9b0-40f0e2b954a1"
      },
      "outputs": [
        {
          "output_type": "display_data",
          "data": {
            "text/plain": [
              "<Figure size 400x400 with 2 Axes>"
            ],
            "image/png": "[encoded data removed]"
          },
          "metadata": {}
        }
      ],
      "source": [
        "# confusion Matric using sklearn\n",
        "import seaborn as sns\n",
        "import matplotlib.pyplot as plt\n",
        "from sklearn.metrics import confusion_matrix\n",
        "\n",
        "# Set font scale for better readability\n",
        "sns.set(font_scale=1.5)\n",
        "\n",
        "# Calculate the confusion matrix (use a different variable name)\n",
        "cm = confusion_matrix(y_test, y_pred)\n",
        "\n",
        "# Create the figure and axis for the heatmap\n",
        "fig, ax = plt.subplots(figsize=(4, 4))\n",
        "\n",
        "# Create the heatmap, annotate values, and format them as integers\n",
        "sns.heatmap(cm, annot=True, fmt='d', cmap='Blues')\n",
        "\n",
        "# Set the title, x-label, and y-label\n",
        "plt.title('Confusion Matrix')\n",
        "plt.xlabel('Predicted Labels')\n",
        "plt.ylabel('True Labels')\n",
        "# Show the plot\n",
        "plt.show()"
      ]
    },
    {
      "cell_type": "markdown",
      "metadata": {
        "id": "_g10CtB4l0Ih"
      },
      "source": [
        "### Logistic Regression"
      ]
    },
    {
      "cell_type": "code",
      "execution_count": 22,
      "metadata": {
        "colab": {
          "base_uri": "https://localhost:8080/"
        },
        "id": "B1uUcpvAO3dN",
        "outputId": "5048d093-0c29-4d59-ca49-4a64036371f7"
      },
      "outputs": [
        {
          "output_type": "stream",
          "name": "stderr",
          "text": [
            "/usr/local/lib/python3.10/dist-packages/sklearn/model_selection/_split.py:776: UserWarning: The least populated class in y has only 1 members, which is less than n_splits=5.\n",
            "  warnings.warn(\n",
            "/usr/local/lib/python3.10/dist-packages/sklearn/linear_model/_logistic.py:469: ConvergenceWarning: lbfgs failed to converge (status=1):\n",
            "STOP: TOTAL NO. of ITERATIONS REACHED LIMIT.\n",
            "\n",
            "Increase the number of iterations (max_iter) or scale the data as shown in:\n",
            "    https://scikit-learn.org/stable/modules/preprocessing.html\n",
            "Please also refer to the documentation for alternative solver options:\n",
            "    https://scikit-learn.org/stable/modules/linear_model.html#logistic-regression\n",
            "  n_iter_i = _check_optimize_result(\n",
            "/usr/local/lib/python3.10/dist-packages/sklearn/linear_model/_logistic.py:469: ConvergenceWarning: lbfgs failed to converge (status=1):\n",
            "STOP: TOTAL NO. of ITERATIONS REACHED LIMIT.\n",
            "\n",
            "Increase the number of iterations (max_iter) or scale the data as shown in:\n",
            "    https://scikit-learn.org/stable/modules/preprocessing.html\n",
            "Please also refer to the documentation for alternative solver options:\n",
            "    https://scikit-learn.org/stable/modules/linear_model.html#logistic-regression\n",
            "  n_iter_i = _check_optimize_result(\n",
            "/usr/local/lib/python3.10/dist-packages/sklearn/linear_model/_logistic.py:469: ConvergenceWarning: lbfgs failed to converge (status=1):\n",
            "STOP: TOTAL NO. of ITERATIONS REACHED LIMIT.\n",
            "\n",
            "Increase the number of iterations (max_iter) or scale the data as shown in:\n",
            "    https://scikit-learn.org/stable/modules/preprocessing.html\n",
            "Please also refer to the documentation for alternative solver options:\n",
            "    https://scikit-learn.org/stable/modules/linear_model.html#logistic-regression\n",
            "  n_iter_i = _check_optimize_result(\n",
            "/usr/local/lib/python3.10/dist-packages/sklearn/linear_model/_logistic.py:469: ConvergenceWarning: lbfgs failed to converge (status=1):\n",
            "STOP: TOTAL NO. of ITERATIONS REACHED LIMIT.\n",
            "\n",
            "Increase the number of iterations (max_iter) or scale the data as shown in:\n",
            "    https://scikit-learn.org/stable/modules/preprocessing.html\n",
            "Please also refer to the documentation for alternative solver options:\n",
            "    https://scikit-learn.org/stable/modules/linear_model.html#logistic-regression\n",
            "  n_iter_i = _check_optimize_result(\n",
            "/usr/local/lib/python3.10/dist-packages/sklearn/linear_model/_logistic.py:469: ConvergenceWarning: lbfgs failed to converge (status=1):\n",
            "STOP: TOTAL NO. of ITERATIONS REACHED LIMIT.\n",
            "\n",
            "Increase the number of iterations (max_iter) or scale the data as shown in:\n",
            "    https://scikit-learn.org/stable/modules/preprocessing.html\n",
            "Please also refer to the documentation for alternative solver options:\n",
            "    https://scikit-learn.org/stable/modules/linear_model.html#logistic-regression\n",
            "  n_iter_i = _check_optimize_result(\n",
            "/usr/local/lib/python3.10/dist-packages/sklearn/linear_model/_logistic.py:469: ConvergenceWarning: lbfgs failed to converge (status=1):\n",
            "STOP: TOTAL NO. of ITERATIONS REACHED LIMIT.\n",
            "\n",
            "Increase the number of iterations (max_iter) or scale the data as shown in:\n",
            "    https://scikit-learn.org/stable/modules/preprocessing.html\n",
            "Please also refer to the documentation for alternative solver options:\n",
            "    https://scikit-learn.org/stable/modules/linear_model.html#logistic-regression\n",
            "  n_iter_i = _check_optimize_result(\n",
            "/usr/local/lib/python3.10/dist-packages/sklearn/linear_model/_logistic.py:469: ConvergenceWarning: lbfgs failed to converge (status=1):\n",
            "STOP: TOTAL NO. of ITERATIONS REACHED LIMIT.\n",
            "\n",
            "Increase the number of iterations (max_iter) or scale the data as shown in:\n",
            "    https://scikit-learn.org/stable/modules/preprocessing.html\n",
            "Please also refer to the documentation for alternative solver options:\n",
            "    https://scikit-learn.org/stable/modules/linear_model.html#logistic-regression\n",
            "  n_iter_i = _check_optimize_result(\n",
            "/usr/local/lib/python3.10/dist-packages/sklearn/linear_model/_logistic.py:469: ConvergenceWarning: lbfgs failed to converge (status=1):\n",
            "STOP: TOTAL NO. of ITERATIONS REACHED LIMIT.\n",
            "\n",
            "Increase the number of iterations (max_iter) or scale the data as shown in:\n",
            "    https://scikit-learn.org/stable/modules/preprocessing.html\n",
            "Please also refer to the documentation for alternative solver options:\n",
            "    https://scikit-learn.org/stable/modules/linear_model.html#logistic-regression\n",
            "  n_iter_i = _check_optimize_result(\n",
            "/usr/local/lib/python3.10/dist-packages/sklearn/linear_model/_logistic.py:469: ConvergenceWarning: lbfgs failed to converge (status=1):\n",
            "STOP: TOTAL NO. of ITERATIONS REACHED LIMIT.\n",
            "\n",
            "Increase the number of iterations (max_iter) or scale the data as shown in:\n",
            "    https://scikit-learn.org/stable/modules/preprocessing.html\n",
            "Please also refer to the documentation for alternative solver options:\n",
            "    https://scikit-learn.org/stable/modules/linear_model.html#logistic-regression\n",
            "  n_iter_i = _check_optimize_result(\n",
            "/usr/local/lib/python3.10/dist-packages/sklearn/linear_model/_logistic.py:469: ConvergenceWarning: lbfgs failed to converge (status=1):\n",
            "STOP: TOTAL NO. of ITERATIONS REACHED LIMIT.\n",
            "\n",
            "Increase the number of iterations (max_iter) or scale the data as shown in:\n",
            "    https://scikit-learn.org/stable/modules/preprocessing.html\n",
            "Please also refer to the documentation for alternative solver options:\n",
            "    https://scikit-learn.org/stable/modules/linear_model.html#logistic-regression\n",
            "  n_iter_i = _check_optimize_result(\n",
            "/usr/local/lib/python3.10/dist-packages/sklearn/linear_model/_logistic.py:469: ConvergenceWarning: lbfgs failed to converge (status=1):\n",
            "STOP: TOTAL NO. of ITERATIONS REACHED LIMIT.\n",
            "\n",
            "Increase the number of iterations (max_iter) or scale the data as shown in:\n",
            "    https://scikit-learn.org/stable/modules/preprocessing.html\n",
            "Please also refer to the documentation for alternative solver options:\n",
            "    https://scikit-learn.org/stable/modules/linear_model.html#logistic-regression\n",
            "  n_iter_i = _check_optimize_result(\n",
            "/usr/local/lib/python3.10/dist-packages/sklearn/linear_model/_logistic.py:469: ConvergenceWarning: lbfgs failed to converge (status=1):\n",
            "STOP: TOTAL NO. of ITERATIONS REACHED LIMIT.\n",
            "\n",
            "Increase the number of iterations (max_iter) or scale the data as shown in:\n",
            "    https://scikit-learn.org/stable/modules/preprocessing.html\n",
            "Please also refer to the documentation for alternative solver options:\n",
            "    https://scikit-learn.org/stable/modules/linear_model.html#logistic-regression\n",
            "  n_iter_i = _check_optimize_result(\n",
            "/usr/local/lib/python3.10/dist-packages/sklearn/linear_model/_logistic.py:469: ConvergenceWarning: lbfgs failed to converge (status=1):\n",
            "STOP: TOTAL NO. of ITERATIONS REACHED LIMIT.\n",
            "\n",
            "Increase the number of iterations (max_iter) or scale the data as shown in:\n",
            "    https://scikit-learn.org/stable/modules/preprocessing.html\n",
            "Please also refer to the documentation for alternative solver options:\n",
            "    https://scikit-learn.org/stable/modules/linear_model.html#logistic-regression\n",
            "  n_iter_i = _check_optimize_result(\n",
            "/usr/local/lib/python3.10/dist-packages/sklearn/linear_model/_logistic.py:469: ConvergenceWarning: lbfgs failed to converge (status=1):\n",
            "STOP: TOTAL NO. of ITERATIONS REACHED LIMIT.\n",
            "\n",
            "Increase the number of iterations (max_iter) or scale the data as shown in:\n",
            "    https://scikit-learn.org/stable/modules/preprocessing.html\n",
            "Please also refer to the documentation for alternative solver options:\n",
            "    https://scikit-learn.org/stable/modules/linear_model.html#logistic-regression\n",
            "  n_iter_i = _check_optimize_result(\n"
          ]
        },
        {
          "output_type": "stream",
          "name": "stdout",
          "text": [
            "Accuracy: 0.8498683055311677\n",
            "Rounded accuracy: 0.85\n",
            "\n",
            "\n",
            "                 precision    recall  f1-score   support\n",
            "\n",
            "       Dementia       0.76      0.80      0.78       190\n",
            "            MCI       0.83      0.89      0.86       500\n",
            "MCI to Dementia       0.00      0.00      0.00        52\n",
            "      MCI to NL       0.00      0.00      0.00         9\n",
            "             NL       0.93      0.98      0.95       379\n",
            "      NL to MCI       0.00      0.00      0.00         9\n",
            "\n",
            "       accuracy                           0.85      1139\n",
            "      macro avg       0.42      0.44      0.43      1139\n",
            "   weighted avg       0.80      0.85      0.83      1139\n",
            "\n",
            "[[152  34   4   0   0   0]\n",
            " [ 33 445   1   0  20   1]\n",
            " [ 14  36   0   0   2   0]\n",
            " [  0   8   0   0   1   0]\n",
            " [  0   8   0   0 371   0]\n",
            " [  0   3   0   0   6   0]]\n"
          ]
        },
        {
          "output_type": "stream",
          "name": "stderr",
          "text": [
            "/usr/local/lib/python3.10/dist-packages/sklearn/linear_model/_logistic.py:469: ConvergenceWarning: lbfgs failed to converge (status=1):\n",
            "STOP: TOTAL NO. of ITERATIONS REACHED LIMIT.\n",
            "\n",
            "Increase the number of iterations (max_iter) or scale the data as shown in:\n",
            "    https://scikit-learn.org/stable/modules/preprocessing.html\n",
            "Please also refer to the documentation for alternative solver options:\n",
            "    https://scikit-learn.org/stable/modules/linear_model.html#logistic-regression\n",
            "  n_iter_i = _check_optimize_result(\n",
            "/usr/local/lib/python3.10/dist-packages/sklearn/metrics/_classification.py:1531: UndefinedMetricWarning: Precision is ill-defined and being set to 0.0 in labels with no predicted samples. Use `zero_division` parameter to control this behavior.\n",
            "  _warn_prf(average, modifier, f\"{metric.capitalize()} is\", len(result))\n",
            "/usr/local/lib/python3.10/dist-packages/sklearn/metrics/_classification.py:1531: UndefinedMetricWarning: Precision is ill-defined and being set to 0.0 in labels with no predicted samples. Use `zero_division` parameter to control this behavior.\n",
            "  _warn_prf(average, modifier, f\"{metric.capitalize()} is\", len(result))\n",
            "/usr/local/lib/python3.10/dist-packages/sklearn/metrics/_classification.py:1531: UndefinedMetricWarning: Precision is ill-defined and being set to 0.0 in labels with no predicted samples. Use `zero_division` parameter to control this behavior.\n",
            "  _warn_prf(average, modifier, f\"{metric.capitalize()} is\", len(result))\n"
          ]
        }
      ],
      "source": [
        "import pandas as pd\n",
        "from sklearn.model_selection import train_test_split\n",
        "from sklearn.preprocessing import StandardScaler\n",
        "from sklearn.linear_model import LogisticRegression\n",
        "from sklearn.metrics import accuracy_score, classification_report, confusion_matrix\n",
        "from sklearn.model_selection import GridSearchCV\n",
        "\n",
        "np.random.seed(42)\n",
        "# Split the data into training and testing sets\n",
        "X_train,X_test,y_train,y_test=train_test_split(transformed_X,\n",
        "                                               y,\n",
        "                                               test_size=0.2)\n",
        "\n",
        "# Feature scaling (if necessary)\n",
        "scaler = StandardScaler()\n",
        "X_train = scaler.fit_transform(X_train)\n",
        "X_test = scaler.transform(X_test)\n",
        "\n",
        "# Define hyperparameter grid\n",
        "param_grid = {'C': [0.001, 0.01, 0.1, 1, 10, 100]}\n",
        "\n",
        "# Create a Logistic Regression classifier\n",
        "lr_clf = LogisticRegression()\n",
        "\n",
        "# Perform grid search to find optimal hyperparameters\n",
        "grid_search = GridSearchCV(lr_clf,param_grid, cv=5, scoring='accuracy')\n",
        "grid_search.fit(X_train, y_train)\n",
        "\n",
        "# Get the best model and predictions\n",
        "best_model = grid_search.best_estimator_\n",
        "y_pred = best_model.predict(X_test)\n",
        "\n",
        "# Evaluate the model's performance\n",
        "accuracy = accuracy_score(y_test, y_pred)\n",
        "print(\"Accuracy:\", accuracy)\n",
        "rounded_accuracy = round(accuracy,2)\n",
        "print(\"Rounded accuracy:\", rounded_accuracy)\n",
        "print(\"\\n\")\n",
        "\n",
        "# Print classification report and confusion matrix\n",
        "print(classification_report(y_test, y_pred))\n",
        "print(confusion_matrix(y_test, y_pred))"
      ]
    },
    {
      "cell_type": "code",
      "execution_count": 23,
      "metadata": {
        "colab": {
          "base_uri": "https://localhost:8080/",
          "height": 438
        },
        "id": "Hvabbw6eUzyb",
        "outputId": "039030e8-ad66-46cd-f187-db43f9b1a18a"
      },
      "outputs": [
        {
          "output_type": "display_data",
          "data": {
            "text/plain": [
              "<Figure size 400x400 with 2 Axes>"
            ],
            "image/png": "[encoded data removed]"
          },
          "metadata": {}
        }
      ],
      "source": [
        "# confusion Matric using sklearn\n",
        "import seaborn as sns\n",
        "import matplotlib.pyplot as plt\n",
        "from sklearn.metrics import confusion_matrix\n",
        "\n",
        "# Set font scale for better readability\n",
        "sns.set(font_scale=1.5)\n",
        "\n",
        "# Calculate the confusion matrix (use a different variable name)\n",
        "cm = confusion_matrix(y_test, y_pred)\n",
        "\n",
        "# Create the figure and axis for the heatmap\n",
        "fig, ax = plt.subplots(figsize=(4, 4))\n",
        "\n",
        "# Create the heatmap, annotate values, and format them as integers\n",
        "sns.heatmap(cm, annot=True, fmt='d', cmap='Blues')\n",
        "\n",
        "# Set the title, x-label, and y-label\n",
        "plt.title('Confusion Matrix')\n",
        "plt.xlabel('Predicted Labels')\n",
        "plt.ylabel('True Labels')\n",
        "# Show the plot\n",
        "plt.show()"
      ]
    },
    {
      "cell_type": "markdown",
      "metadata": {
        "id": "rRd17ldEpE8-"
      },
      "source": [
        "### SVC"
      ]
    },
    {
      "cell_type": "code",
      "execution_count": 24,
      "metadata": {
        "colab": {
          "base_uri": "https://localhost:8080/"
        },
        "id": "BqjpPvu6Ocmr",
        "outputId": "7d9886e5-7fcc-49f5-f401-d6e5b09039b1"
      },
      "outputs": [
        {
          "metadata": {
            "tags": null
          },
          "name": "stderr",
          "output_type": "stream",
          "text": [
            "/usr/local/lib/python3.10/dist-packages/sklearn/model_selection/_split.py:776: UserWarning: The least populated class in y has only 1 members, which is less than n_splits=5.\n",
            "  warnings.warn(\n"
          ]
        },
        {
          "output_type": "stream",
          "name": "stdout",
          "text": [
            "Accuracy: 0.8647936786654961\n",
            "Rounded accuracy: 0.86\n",
            "\n",
            "\n",
            "                 precision    recall  f1-score   support\n",
            "\n",
            "       Dementia       0.82      0.83      0.83       190\n",
            "            MCI       0.84      0.91      0.87       500\n",
            "MCI to Dementia       0.00      0.00      0.00        52\n",
            "      MCI to NL       0.00      0.00      0.00         9\n",
            "             NL       0.94      0.98      0.96       379\n",
            "      NL to MCI       1.00      0.11      0.20         9\n",
            "\n",
            "       accuracy                           0.86      1139\n",
            "      macro avg       0.60      0.47      0.48      1139\n",
            "   weighted avg       0.83      0.86      0.84      1139\n",
            "\n"
          ]
        }
      ],
      "source": [
        "from sklearn.svm import SVC\n",
        "from sklearn.model_selection import train_test_split, GridSearchCV\n",
        "from sklearn.preprocessing import StandardScaler\n",
        "from sklearn.metrics import accuracy_score, classification_report\n",
        "\n",
        "np.random.seed(42)\n",
        "\n",
        "# Feature scaling (if necessary)\n",
        "scaler = StandardScaler()\n",
        "X_train = scaler.fit_transform(X_train)\n",
        "X_test = scaler.transform(X_test)\n",
        "\n",
        "# Define hyperparameter grid\n",
        "param_grid = {\n",
        "    'kernel': ['linear', 'rbf', 'poly'],\n",
        "    'C': [0.1, 1, 10],\n",
        "    'gamma': [0.01, 0.1, 1]\n",
        "}\n",
        "\n",
        "# Create an SVM classifier\n",
        "svm_clf = SVC()\n",
        "\n",
        "# Perform grid search to find optimal hyperparameters\n",
        "grid_search = GridSearchCV(svm_clf, param_grid, cv=5, scoring='accuracy')\n",
        "grid_search.fit(X_train, y_train)\n",
        "\n",
        "# Get the best model and predictions\n",
        "best_model = grid_search.best_estimator_\n",
        "y_pred = best_model.predict(X_test)\n",
        "\n",
        "# Evaluate the model's performance\n",
        "accuracy = accuracy_score(y_test, y_pred)\n",
        "print(\"Accuracy:\", accuracy)\n",
        "rounded_accuracy = round(accuracy,2)\n",
        "print(\"Rounded accuracy:\", rounded_accuracy)\n",
        "print(\"\\n\")\n",
        "\n",
        "# Print classification report\n",
        "print(classification_report(y_test, y_pred))"
      ]
    },
    {
      "cell_type": "code",
      "execution_count": 27,
      "metadata": {
        "colab": {
          "base_uri": "https://localhost:8080/",
          "height": 438
        },
        "id": "RakVE5pWVv1i",
        "outputId": "51ab38fd-5856-4194-add2-5421bfd6118c"
      },
      "outputs": [
        {
          "output_type": "display_data",
          "data": {
            "text/plain": [
              "<Figure size 400x400 with 2 Axes>"
            ],
            "image/png": "[encoded data removed]"
          },
          "metadata": {}
        }
      ],
      "source": [
        "# confusion Matric using sklearn\n",
        "import seaborn as sns\n",
        "import matplotlib.pyplot as plt\n",
        "from sklearn.metrics import confusion_matrix\n",
        "\n",
        "# Set font scale for better readability\n",
        "sns.set(font_scale=1.5)\n",
        "\n",
        "# Calculate the confusion matrix (use a different variable name)\n",
        "cm = confusion_matrix(y_test, y_pred)\n",
        "\n",
        "# Create the figure and axis for the heatmap\n",
        "fig, ax = plt.subplots(figsize=(4, 4))\n",
        "\n",
        "# Create the heatmap, annotate values, and format them as integers\n",
        "sns.heatmap(cm, annot=True, fmt='d', cmap='Blues')\n",
        "\n",
        "# Set the title, x-label, and y-label\n",
        "plt.title('Confusion Matrix')\n",
        "plt.xlabel('Predicted Labels')\n",
        "plt.ylabel('True Labels')\n",
        "# Show the plot\n",
        "plt.show()"
      ]
    },
    {
      "cell_type": "markdown",
      "metadata": {
        "id": "XlbXneaXqnP4"
      },
      "source": [
        "### Bagging"
      ]
    },
    {
      "cell_type": "code",
      "execution_count": 26,
      "metadata": {
        "colab": {
          "base_uri": "https://localhost:8080/"
        },
        "id": "1ZPAFq_MqpHh",
        "outputId": "b6390897-fb02-41dc-f958-1b8c7131568b"
      },
      "outputs": [
        {
          "output_type": "stream",
          "name": "stdout",
          "text": [
            "Accuracy: 0.8867427568042142\n",
            "Rounded accuracy: 0.89\n",
            "\n",
            "\n",
            "                 precision    recall  f1-score   support\n",
            "\n",
            "       Dementia       0.91      0.87      0.89       190\n",
            "Dementia to MCI       0.00      0.00      0.00         0\n",
            "            MCI       0.86      0.96      0.90       500\n",
            "MCI to Dementia       0.00      0.00      0.00        52\n",
            "      MCI to NL       0.00      0.00      0.00         9\n",
            "             NL       0.98      0.97      0.97       379\n",
            "      NL to MCI       0.00      0.00      0.00         9\n",
            "\n",
            "       accuracy                           0.89      1139\n",
            "      macro avg       0.39      0.40      0.39      1139\n",
            "   weighted avg       0.85      0.89      0.87      1139\n",
            "\n"
          ]
        },
        {
          "output_type": "stream",
          "name": "stderr",
          "text": [
            "/usr/local/lib/python3.10/dist-packages/sklearn/metrics/_classification.py:1531: UndefinedMetricWarning: Recall is ill-defined and being set to 0.0 in labels with no true samples. Use `zero_division` parameter to control this behavior.\n",
            "  _warn_prf(average, modifier, f\"{metric.capitalize()} is\", len(result))\n",
            "/usr/local/lib/python3.10/dist-packages/sklearn/metrics/_classification.py:1531: UndefinedMetricWarning: Recall is ill-defined and being set to 0.0 in labels with no true samples. Use `zero_division` parameter to control this behavior.\n",
            "  _warn_prf(average, modifier, f\"{metric.capitalize()} is\", len(result))\n",
            "/usr/local/lib/python3.10/dist-packages/sklearn/metrics/_classification.py:1531: UndefinedMetricWarning: Recall is ill-defined and being set to 0.0 in labels with no true samples. Use `zero_division` parameter to control this behavior.\n",
            "  _warn_prf(average, modifier, f\"{metric.capitalize()} is\", len(result))\n"
          ]
        }
      ],
      "source": [
        "from sklearn.ensemble import BaggingClassifier\n",
        "from sklearn.tree import DecisionTreeClassifier\n",
        "from sklearn.model_selection import train_test_split\n",
        "from sklearn.metrics import accuracy_score, classification_report\n",
        "\n",
        "\n",
        "np.random.seed(42)\n",
        "# Split the data into training and testing sets\n",
        "X_train,X_test,y_train,y_test=train_test_split(transformed_X,\n",
        "                                               y,\n",
        "                                               test_size=0.2)\n",
        "\n",
        "# Create a BaggingClassifier with DecisionTreeClassifier as the base estimator\n",
        "bagging_classifier = BaggingClassifier(DecisionTreeClassifier(), n_estimators=100, random_state=42)\n",
        "\n",
        "# Train the classifier\n",
        "bagging_classifier.fit(X_train, y_train)\n",
        "\n",
        "# Make predictions on the test set\n",
        "y_pred = bagging_classifier.predict(X_test)\n",
        "\n",
        "# Evaluate the model's performance\n",
        "accuracy = accuracy_score(y_test, y_pred)\n",
        "print(\"Accuracy:\", accuracy)\n",
        "rounded_accuracy = round(accuracy,2)\n",
        "print(\"Rounded accuracy:\", rounded_accuracy)\n",
        "print(\"\\n\")\n",
        "\n",
        "# Print classification report\n",
        "print(classification_report(y_test, y_pred))"
      ]
    },
    {
      "cell_type": "code",
      "execution_count": 28,
      "metadata": {
        "colab": {
          "base_uri": "https://localhost:8080/",
          "height": 438
        },
        "id": "Ou1ftzGbXBJ-",
        "outputId": "860c6896-00dc-417a-d1df-e838a5121cec"
      },
      "outputs": [
        {
          "output_type": "display_data",
          "data": {
            "text/plain": [
              "<Figure size 400x400 with 2 Axes>"
            ],
            "image/png": "[encoded data removed]"
          },
          "metadata": {}
        }
      ],
      "source": [
        "# confusion Matric using sklearn\n",
        "import seaborn as sns\n",
        "import matplotlib.pyplot as plt\n",
        "from sklearn.metrics import confusion_matrix\n",
        "\n",
        "# Set font scale for better readability\n",
        "sns.set(font_scale=1.5)\n",
        "\n",
        "# Calculate the confusion matrix (use a different variable name)\n",
        "cm = confusion_matrix(y_test, y_pred)\n",
        "\n",
        "# Create the figure and axis for the heatmap\n",
        "fig, ax = plt.subplots(figsize=(4, 4))\n",
        "\n",
        "# Create the heatmap, annotate values, and format them as integers\n",
        "sns.heatmap(cm, annot=True, fmt='d', cmap='Blues')\n",
        "\n",
        "# Set the title, x-label, and y-label\n",
        "plt.title('Confusion Matrix')\n",
        "plt.xlabel('Predicted Labels')\n",
        "plt.ylabel('True Labels')\n",
        "# Show the plot\n",
        "plt.show()"
      ]
    },
    {
      "cell_type": "markdown",
      "metadata": {
        "id": "FWIFTvGYrlgr"
      },
      "source": [
        "### XGBoost (eXtreme Gradient Boosting)"
      ]
    },
    {
      "cell_type": "code",
      "execution_count": 29,
      "metadata": {
        "colab": {
          "base_uri": "https://localhost:8080/"
        },
        "id": "dswdqb5IsTtE",
        "outputId": "d5f83037-3d6f-44e4-b7a4-17d5bc0b7ea7"
      },
      "outputs": [
        {
          "output_type": "stream",
          "name": "stdout",
          "text": [
            "Accuracy: 0.897278314310799\n",
            "Rounded accuracy: 90.0\n",
            "\n",
            "\n",
            "                 precision    recall  f1-score   support\n",
            "\n",
            "       Dementia       0.91      0.89      0.90       190\n",
            "Dementia to MCI       0.00      0.00      0.00         0\n",
            "            MCI       0.89      0.96      0.92       500\n",
            "MCI to Dementia       0.17      0.08      0.11        52\n",
            "      MCI to NL       0.00      0.00      0.00         9\n",
            "             NL       0.99      0.97      0.98       379\n",
            "      NL to MCI       0.00      0.00      0.00         9\n",
            "\n",
            "       accuracy                           0.90      1139\n",
            "      macro avg       0.42      0.41      0.42      1139\n",
            "   weighted avg       0.88      0.90      0.89      1139\n",
            "\n"
          ]
        },
        {
          "output_type": "stream",
          "name": "stderr",
          "text": [
            "/usr/local/lib/python3.10/dist-packages/sklearn/metrics/_classification.py:1531: UndefinedMetricWarning: Recall is ill-defined and being set to 0.0 in labels with no true samples. Use `zero_division` parameter to control this behavior.\n",
            "  _warn_prf(average, modifier, f\"{metric.capitalize()} is\", len(result))\n",
            "/usr/local/lib/python3.10/dist-packages/sklearn/metrics/_classification.py:1531: UndefinedMetricWarning: Recall is ill-defined and being set to 0.0 in labels with no true samples. Use `zero_division` parameter to control this behavior.\n",
            "  _warn_prf(average, modifier, f\"{metric.capitalize()} is\", len(result))\n",
            "/usr/local/lib/python3.10/dist-packages/sklearn/metrics/_classification.py:1531: UndefinedMetricWarning: Recall is ill-defined and being set to 0.0 in labels with no true samples. Use `zero_division` parameter to control this behavior.\n",
            "  _warn_prf(average, modifier, f\"{metric.capitalize()} is\", len(result))\n"
          ]
        }
      ],
      "source": [
        "import numpy as np\n",
        "import xgboost as xgb\n",
        "from sklearn.model_selection import train_test_split\n",
        "from sklearn.metrics import accuracy_score, classification_report\n",
        "from sklearn.preprocessing import LabelEncoder\n",
        "\n",
        "# Set a random seed for reproducibility (optional)\n",
        "np.random.seed(42)\n",
        "\n",
        "# Split the data into training and testing sets\n",
        "X_train, X_test, y_train, y_test = train_test_split(transformed_X, y, test_size=0.2)\n",
        "\n",
        "# Initialize LabelEncoder\n",
        "label_encoder = LabelEncoder()\n",
        "\n",
        "# Fit and transform the training labels\n",
        "y_train_encoded = label_encoder.fit_transform(y_train)\n",
        "\n",
        "# Transform the testing labels using the same encoder\n",
        "y_test_encoded = label_encoder.transform(y_test)\n",
        "\n",
        "# Create an XGBoost classifier\n",
        "xgb_classifier = xgb.XGBClassifier()  # You can adjust parameters like learning_rate, n_estimators, max_depth\n",
        "\n",
        "# Train the classifier using encoded labels\n",
        "xgb_classifier.fit(X_train, y_train_encoded)\n",
        "\n",
        "# Make predictions on the test set (using encoded labels)\n",
        "y_pred_encoded = xgb_classifier.predict(X_test)\n",
        "\n",
        "# Decode predictions back to original labels\n",
        "y_pred = label_encoder.inverse_transform(y_pred_encoded)\n",
        "\n",
        "# Evaluate the model's performance\n",
        "accuracy = accuracy_score(y_test, y_pred)\n",
        "print(\"Accuracy:\", accuracy)\n",
        "rounded_accuracy = round(accuracy,2)\n",
        "print(\"Rounded accuracy:\", rounded_accuracy*100)\n",
        "print(\"\\n\")\n",
        "\n",
        "# Print classification report\n",
        "print(classification_report(y_test, y_pred))"
      ]
    },
    {
      "cell_type": "code",
      "execution_count": 30,
      "metadata": {
        "colab": {
          "base_uri": "https://localhost:8080/",
          "height": 438
        },
        "id": "-NgNkzAJXKJI",
        "outputId": "7bf21270-c04f-415e-f7ec-f08c8c7d8ac5"
      },
      "outputs": [
        {
          "output_type": "display_data",
          "data": {
            "text/plain": [
              "<Figure size 400x400 with 2 Axes>"
            ],
            "image/png": "[encoded data removed]"
          },
          "metadata": {}
        }
      ],
      "source": [
        "# confusion Matric using sklearn\n",
        "import seaborn as sns\n",
        "import matplotlib.pyplot as plt\n",
        "from sklearn.metrics import confusion_matrix\n",
        "\n",
        "# Set font scale for better readability\n",
        "sns.set(font_scale=1.5)\n",
        "\n",
        "# Calculate the confusion matrix (use a different variable name)\n",
        "cm = confusion_matrix(y_test, y_pred)\n",
        "\n",
        "# Create the figure and axis for the heatmap\n",
        "fig, ax = plt.subplots(figsize=(4, 4))\n",
        "\n",
        "# Create the heatmap, annotate values, and format them as integers\n",
        "sns.heatmap(cm, annot=True, fmt='d', cmap='Blues')\n",
        "\n",
        "# Set the title, x-label, and y-label\n",
        "plt.title('Confusion Matrix')\n",
        "plt.xlabel('Predicted Labels')\n",
        "plt.ylabel('True Labels')\n",
        "# Show the plot\n",
        "plt.show()"
      ]
    },
    {
      "cell_type": "markdown",
      "metadata": {
        "id": "Dw_waVpKs-la"
      },
      "source": [
        "### Stacking"
      ]
    },
    {
      "cell_type": "code",
      "execution_count": 31,
      "metadata": {
        "colab": {
          "base_uri": "https://localhost:8080/"
        },
        "id": "iI38eTxgLXWd",
        "outputId": "2149acd0-d099-41e6-fa4c-81ae672b6a1b"
      },
      "outputs": [
        {
          "output_type": "stream",
          "name": "stderr",
          "text": [
            "/usr/local/lib/python3.10/dist-packages/sklearn/linear_model/_logistic.py:469: ConvergenceWarning: lbfgs failed to converge (status=1):\n",
            "STOP: TOTAL NO. of ITERATIONS REACHED LIMIT.\n",
            "\n",
            "Increase the number of iterations (max_iter) or scale the data as shown in:\n",
            "    https://scikit-learn.org/stable/modules/preprocessing.html\n",
            "Please also refer to the documentation for alternative solver options:\n",
            "    https://scikit-learn.org/stable/modules/linear_model.html#logistic-regression\n",
            "  n_iter_i = _check_optimize_result(\n",
            "/usr/local/lib/python3.10/dist-packages/sklearn/model_selection/_split.py:776: UserWarning: The least populated class in y has only 1 members, which is less than n_splits=5.\n",
            "  warnings.warn(\n",
            "/usr/local/lib/python3.10/dist-packages/sklearn/linear_model/_logistic.py:469: ConvergenceWarning: lbfgs failed to converge (status=1):\n",
            "STOP: TOTAL NO. of ITERATIONS REACHED LIMIT.\n",
            "\n",
            "Increase the number of iterations (max_iter) or scale the data as shown in:\n",
            "    https://scikit-learn.org/stable/modules/preprocessing.html\n",
            "Please also refer to the documentation for alternative solver options:\n",
            "    https://scikit-learn.org/stable/modules/linear_model.html#logistic-regression\n",
            "  n_iter_i = _check_optimize_result(\n",
            "/usr/local/lib/python3.10/dist-packages/sklearn/linear_model/_logistic.py:469: ConvergenceWarning: lbfgs failed to converge (status=1):\n",
            "STOP: TOTAL NO. of ITERATIONS REACHED LIMIT.\n",
            "\n",
            "Increase the number of iterations (max_iter) or scale the data as shown in:\n",
            "    https://scikit-learn.org/stable/modules/preprocessing.html\n",
            "Please also refer to the documentation for alternative solver options:\n",
            "    https://scikit-learn.org/stable/modules/linear_model.html#logistic-regression\n",
            "  n_iter_i = _check_optimize_result(\n",
            "/usr/local/lib/python3.10/dist-packages/sklearn/linear_model/_logistic.py:469: ConvergenceWarning: lbfgs failed to converge (status=1):\n",
            "STOP: TOTAL NO. of ITERATIONS REACHED LIMIT.\n",
            "\n",
            "Increase the number of iterations (max_iter) or scale the data as shown in:\n",
            "    https://scikit-learn.org/stable/modules/preprocessing.html\n",
            "Please also refer to the documentation for alternative solver options:\n",
            "    https://scikit-learn.org/stable/modules/linear_model.html#logistic-regression\n",
            "  n_iter_i = _check_optimize_result(\n",
            "/usr/local/lib/python3.10/dist-packages/sklearn/linear_model/_logistic.py:469: ConvergenceWarning: lbfgs failed to converge (status=1):\n",
            "STOP: TOTAL NO. of ITERATIONS REACHED LIMIT.\n",
            "\n",
            "Increase the number of iterations (max_iter) or scale the data as shown in:\n",
            "    https://scikit-learn.org/stable/modules/preprocessing.html\n",
            "Please also refer to the documentation for alternative solver options:\n",
            "    https://scikit-learn.org/stable/modules/linear_model.html#logistic-regression\n",
            "  n_iter_i = _check_optimize_result(\n",
            "/usr/local/lib/python3.10/dist-packages/sklearn/linear_model/_logistic.py:469: ConvergenceWarning: lbfgs failed to converge (status=1):\n",
            "STOP: TOTAL NO. of ITERATIONS REACHED LIMIT.\n",
            "\n",
            "Increase the number of iterations (max_iter) or scale the data as shown in:\n",
            "    https://scikit-learn.org/stable/modules/preprocessing.html\n",
            "Please also refer to the documentation for alternative solver options:\n",
            "    https://scikit-learn.org/stable/modules/linear_model.html#logistic-regression\n",
            "  n_iter_i = _check_optimize_result(\n",
            "/usr/local/lib/python3.10/dist-packages/sklearn/model_selection/_validation.py:1415: RuntimeWarning: Number of classes in training fold (7) does not match total number of classes (8). Results may not be appropriate for your use case. To fix this, use a cross-validation technique resulting in properly stratified folds\n",
            "  warnings.warn(\n",
            "/usr/local/lib/python3.10/dist-packages/sklearn/model_selection/_split.py:776: UserWarning: The least populated class in y has only 1 members, which is less than n_splits=5.\n",
            "  warnings.warn(\n",
            "/usr/local/lib/python3.10/dist-packages/sklearn/model_selection/_validation.py:1415: RuntimeWarning: Number of classes in training fold (7) does not match total number of classes (8). Results may not be appropriate for your use case. To fix this, use a cross-validation technique resulting in properly stratified folds\n",
            "  warnings.warn(\n",
            "/usr/local/lib/python3.10/dist-packages/sklearn/model_selection/_split.py:776: UserWarning: The least populated class in y has only 1 members, which is less than n_splits=5.\n",
            "  warnings.warn(\n",
            "/usr/local/lib/python3.10/dist-packages/sklearn/model_selection/_validation.py:1415: RuntimeWarning: Number of classes in training fold (7) does not match total number of classes (8). Results may not be appropriate for your use case. To fix this, use a cross-validation technique resulting in properly stratified folds\n",
            "  warnings.warn(\n"
          ]
        },
        {
          "output_type": "stream",
          "name": "stdout",
          "text": [
            "Accuracy: 0.8884986830553117\n",
            "Rounded accuracy: 0.89\n",
            "\n",
            "\n",
            "                 precision    recall  f1-score   support\n",
            "\n",
            "       Dementia       0.90      0.86      0.88       190\n",
            "            MCI       0.84      0.96      0.90       500\n",
            "MCI to Dementia       0.00      0.00      0.00        52\n",
            "      MCI to NL       0.00      0.00      0.00         9\n",
            "             NL       0.95      0.97      0.96       379\n",
            "      NL to MCI       0.00      0.00      0.00         9\n",
            "\n",
            "       accuracy                           0.89      1139\n",
            "      macro avg       0.45      0.47      0.46      1139\n",
            "   weighted avg       0.84      0.89      0.86      1139\n",
            "\n"
          ]
        },
        {
          "output_type": "stream",
          "name": "stderr",
          "text": [
            "/usr/local/lib/python3.10/dist-packages/sklearn/metrics/_classification.py:1531: UndefinedMetricWarning: Precision is ill-defined and being set to 0.0 in labels with no predicted samples. Use `zero_division` parameter to control this behavior.\n",
            "  _warn_prf(average, modifier, f\"{metric.capitalize()} is\", len(result))\n",
            "/usr/local/lib/python3.10/dist-packages/sklearn/metrics/_classification.py:1531: UndefinedMetricWarning: Precision is ill-defined and being set to 0.0 in labels with no predicted samples. Use `zero_division` parameter to control this behavior.\n",
            "  _warn_prf(average, modifier, f\"{metric.capitalize()} is\", len(result))\n",
            "/usr/local/lib/python3.10/dist-packages/sklearn/metrics/_classification.py:1531: UndefinedMetricWarning: Precision is ill-defined and being set to 0.0 in labels with no predicted samples. Use `zero_division` parameter to control this behavior.\n",
            "  _warn_prf(average, modifier, f\"{metric.capitalize()} is\", len(result))\n"
          ]
        }
      ],
      "source": [
        "from sklearn.ensemble import StackingClassifier\n",
        "from sklearn.linear_model import LogisticRegression\n",
        "from sklearn.neighbors import KNeighborsClassifier\n",
        "from sklearn.tree import DecisionTreeClassifier\n",
        "from sklearn.model_selection import train_test_split\n",
        "from sklearn.metrics import accuracy_score, classification_report\n",
        "from sklearn.preprocessing import LabelEncoder  # Import LabelEncoder\n",
        "\n",
        "# Split the data into training and testing sets\n",
        "X_train, X_test, y_train, y_test = train_test_split(X, y, test_size=0.2, random_state=42)\n",
        "\n",
        "# Initialize LabelEncoder for features\n",
        "label_encoder_X = LabelEncoder()\n",
        "\n",
        "# Iterate through columns and encode string features\n",
        "for col in X_train.columns:\n",
        "    if X_train[col].dtype == 'object':\n",
        "        X_train[col] = label_encoder_X.fit_transform(X_train[col])\n",
        "        X_test[col] = label_encoder_X.transform(X_test[col])  # Use same encoder for test data\n",
        "\n",
        "# Define base models\n",
        "base_models = [\n",
        "    ('lr', LogisticRegression()),\n",
        "    ('knn', KNeighborsClassifier()),\n",
        "    ('dt', DecisionTreeClassifier())\n",
        "]\n",
        "\n",
        "# Create a meta-model (e.g., Logistic Regression)\n",
        "meta_model = LogisticRegression()\n",
        "\n",
        "# Create a StackingClassifier\n",
        "stacking_classifier = StackingClassifier(estimators=base_models, final_estimator=meta_model)\n",
        "\n",
        "# Train the classifier\n",
        "stacking_classifier.fit(X_train, y_train)\n",
        "\n",
        "# Make predictions on the test set\n",
        "y_pred = stacking_classifier.predict(X_test)\n",
        "\n",
        "# Evaluate the model's performance\n",
        "accuracy = accuracy_score(y_test, y_pred)\n",
        "print(\"Accuracy:\", accuracy)\n",
        "rounded_accuracy = round(accuracy,2)\n",
        "print(\"Rounded accuracy:\", rounded_accuracy)\n",
        "print(\"\\n\")\n",
        "\n",
        "# Print classification report\n",
        "print(classification_report(y_test, y_pred))"
      ]
    },
    {
      "cell_type": "code",
      "execution_count": 32,
      "metadata": {
        "colab": {
          "base_uri": "https://localhost:8080/",
          "height": 438
        },
        "id": "0KUJxf89XzjD",
        "outputId": "94e740ef-9572-4f13-8e17-13667a138f1b"
      },
      "outputs": [
        {
          "output_type": "display_data",
          "data": {
            "text/plain": [
              "<Figure size 400x400 with 2 Axes>"
            ],
            "image/png": "[encoded data removed]"
          },
          "metadata": {}
        }
      ],
      "source": [
        "# confusion Matric using sklearn\n",
        "import seaborn as sns\n",
        "import matplotlib.pyplot as plt\n",
        "from sklearn.metrics import confusion_matrix\n",
        "\n",
        "# Set font scale for better readability\n",
        "sns.set(font_scale=1.5)\n",
        "\n",
        "# Calculate the confusion matrix (use a different variable name)\n",
        "cm = confusion_matrix(y_test, y_pred)\n",
        "\n",
        "# Create the figure and axis for the heatmap\n",
        "fig, ax = plt.subplots(figsize=(4, 4))\n",
        "\n",
        "# Create the heatmap, annotate values, and format them as integers\n",
        "sns.heatmap(cm, annot=True, fmt='d', cmap='Blues')\n",
        "\n",
        "# Set the title, x-label, and y-label\n",
        "plt.title('Confusion Matrix')\n",
        "plt.xlabel('Predicted Labels')\n",
        "plt.ylabel('True Labels')\n",
        "# Show the plot\n",
        "plt.show()"
      ]
    },
    {
      "cell_type": "markdown",
      "metadata": {
        "id": "V_7O-jiQtY3K"
      },
      "source": [
        "### Blending"
      ]
    },
    {
      "cell_type": "code",
      "execution_count": 33,
      "metadata": {
        "colab": {
          "base_uri": "https://localhost:8080/"
        },
        "id": "2kzZBOl7Ngrl",
        "outputId": "6a31f4fe-0a16-4e90-b6e3-63d81c82309a"
      },
      "outputs": [
        {
          "output_type": "stream",
          "name": "stderr",
          "text": [
            "/usr/local/lib/python3.10/dist-packages/sklearn/linear_model/_logistic.py:469: ConvergenceWarning: lbfgs failed to converge (status=1):\n",
            "STOP: TOTAL NO. of ITERATIONS REACHED LIMIT.\n",
            "\n",
            "Increase the number of iterations (max_iter) or scale the data as shown in:\n",
            "    https://scikit-learn.org/stable/modules/preprocessing.html\n",
            "Please also refer to the documentation for alternative solver options:\n",
            "    https://scikit-learn.org/stable/modules/linear_model.html#logistic-regression\n",
            "  n_iter_i = _check_optimize_result(\n",
            "/usr/local/lib/python3.10/dist-packages/sklearn/model_selection/_split.py:776: UserWarning: The least populated class in y has only 1 members, which is less than n_splits=5.\n",
            "  warnings.warn(\n",
            "/usr/local/lib/python3.10/dist-packages/sklearn/linear_model/_logistic.py:469: ConvergenceWarning: lbfgs failed to converge (status=1):\n",
            "STOP: TOTAL NO. of ITERATIONS REACHED LIMIT.\n",
            "\n",
            "Increase the number of iterations (max_iter) or scale the data as shown in:\n",
            "    https://scikit-learn.org/stable/modules/preprocessing.html\n",
            "Please also refer to the documentation for alternative solver options:\n",
            "    https://scikit-learn.org/stable/modules/linear_model.html#logistic-regression\n",
            "  n_iter_i = _check_optimize_result(\n",
            "/usr/local/lib/python3.10/dist-packages/sklearn/linear_model/_logistic.py:469: ConvergenceWarning: lbfgs failed to converge (status=1):\n",
            "STOP: TOTAL NO. of ITERATIONS REACHED LIMIT.\n",
            "\n",
            "Increase the number of iterations (max_iter) or scale the data as shown in:\n",
            "    https://scikit-learn.org/stable/modules/preprocessing.html\n",
            "Please also refer to the documentation for alternative solver options:\n",
            "    https://scikit-learn.org/stable/modules/linear_model.html#logistic-regression\n",
            "  n_iter_i = _check_optimize_result(\n",
            "/usr/local/lib/python3.10/dist-packages/sklearn/linear_model/_logistic.py:469: ConvergenceWarning: lbfgs failed to converge (status=1):\n",
            "STOP: TOTAL NO. of ITERATIONS REACHED LIMIT.\n",
            "\n",
            "Increase the number of iterations (max_iter) or scale the data as shown in:\n",
            "    https://scikit-learn.org/stable/modules/preprocessing.html\n",
            "Please also refer to the documentation for alternative solver options:\n",
            "    https://scikit-learn.org/stable/modules/linear_model.html#logistic-regression\n",
            "  n_iter_i = _check_optimize_result(\n",
            "/usr/local/lib/python3.10/dist-packages/sklearn/linear_model/_logistic.py:469: ConvergenceWarning: lbfgs failed to converge (status=1):\n",
            "STOP: TOTAL NO. of ITERATIONS REACHED LIMIT.\n",
            "\n",
            "Increase the number of iterations (max_iter) or scale the data as shown in:\n",
            "    https://scikit-learn.org/stable/modules/preprocessing.html\n",
            "Please also refer to the documentation for alternative solver options:\n",
            "    https://scikit-learn.org/stable/modules/linear_model.html#logistic-regression\n",
            "  n_iter_i = _check_optimize_result(\n",
            "/usr/local/lib/python3.10/dist-packages/sklearn/linear_model/_logistic.py:469: ConvergenceWarning: lbfgs failed to converge (status=1):\n",
            "STOP: TOTAL NO. of ITERATIONS REACHED LIMIT.\n",
            "\n",
            "Increase the number of iterations (max_iter) or scale the data as shown in:\n",
            "    https://scikit-learn.org/stable/modules/preprocessing.html\n",
            "Please also refer to the documentation for alternative solver options:\n",
            "    https://scikit-learn.org/stable/modules/linear_model.html#logistic-regression\n",
            "  n_iter_i = _check_optimize_result(\n",
            "/usr/local/lib/python3.10/dist-packages/sklearn/model_selection/_validation.py:1415: RuntimeWarning: Number of classes in training fold (7) does not match total number of classes (8). Results may not be appropriate for your use case. To fix this, use a cross-validation technique resulting in properly stratified folds\n",
            "  warnings.warn(\n",
            "/usr/local/lib/python3.10/dist-packages/sklearn/model_selection/_split.py:776: UserWarning: The least populated class in y has only 1 members, which is less than n_splits=5.\n",
            "  warnings.warn(\n",
            "/usr/local/lib/python3.10/dist-packages/sklearn/model_selection/_validation.py:1415: RuntimeWarning: Number of classes in training fold (7) does not match total number of classes (8). Results may not be appropriate for your use case. To fix this, use a cross-validation technique resulting in properly stratified folds\n",
            "  warnings.warn(\n",
            "/usr/local/lib/python3.10/dist-packages/sklearn/model_selection/_split.py:776: UserWarning: The least populated class in y has only 1 members, which is less than n_splits=5.\n",
            "  warnings.warn(\n",
            "/usr/local/lib/python3.10/dist-packages/sklearn/model_selection/_validation.py:1415: RuntimeWarning: Number of classes in training fold (7) does not match total number of classes (8). Results may not be appropriate for your use case. To fix this, use a cross-validation technique resulting in properly stratified folds\n",
            "  warnings.warn(\n"
          ]
        },
        {
          "output_type": "stream",
          "name": "stdout",
          "text": [
            "Accuracy: 0.8805970149253731\n",
            "Rounded accuracy: 0.88\n",
            "\n",
            "\n",
            "                 precision    recall  f1-score   support\n",
            "\n",
            "       Dementia       0.84      0.87      0.85       190\n",
            "            MCI       0.85      0.94      0.89       500\n",
            "MCI to Dementia       0.00      0.00      0.00        52\n",
            "      MCI to NL       0.00      0.00      0.00         9\n",
            "             NL       0.94      0.97      0.96       379\n",
            "      NL to MCI       0.00      0.00      0.00         9\n",
            "\n",
            "       accuracy                           0.88      1139\n",
            "      macro avg       0.44      0.46      0.45      1139\n",
            "   weighted avg       0.83      0.88      0.85      1139\n",
            "\n"
          ]
        },
        {
          "output_type": "stream",
          "name": "stderr",
          "text": [
            "/usr/local/lib/python3.10/dist-packages/sklearn/metrics/_classification.py:1531: UndefinedMetricWarning: Precision is ill-defined and being set to 0.0 in labels with no predicted samples. Use `zero_division` parameter to control this behavior.\n",
            "  _warn_prf(average, modifier, f\"{metric.capitalize()} is\", len(result))\n",
            "/usr/local/lib/python3.10/dist-packages/sklearn/metrics/_classification.py:1531: UndefinedMetricWarning: Precision is ill-defined and being set to 0.0 in labels with no predicted samples. Use `zero_division` parameter to control this behavior.\n",
            "  _warn_prf(average, modifier, f\"{metric.capitalize()} is\", len(result))\n",
            "/usr/local/lib/python3.10/dist-packages/sklearn/metrics/_classification.py:1531: UndefinedMetricWarning: Precision is ill-defined and being set to 0.0 in labels with no predicted samples. Use `zero_division` parameter to control this behavior.\n",
            "  _warn_prf(average, modifier, f\"{metric.capitalize()} is\", len(result))\n"
          ]
        }
      ],
      "source": [
        "from sklearn.ensemble import StackingClassifier\n",
        "from sklearn.linear_model import LogisticRegression\n",
        "from sklearn.neighbors import KNeighborsClassifier\n",
        "from sklearn.tree import DecisionTreeClassifier\n",
        "from sklearn.model_selection import train_test_split\n",
        "from sklearn.metrics import accuracy_score, classification_report\n",
        "from sklearn.preprocessing import LabelEncoder  # Import LabelEncoder\n",
        "\n",
        "# Assuming you have your data loaded into X (features) and y (target variable)\n",
        "\n",
        "# Split the data into training and testing sets\n",
        "X_train, X_test, y_train, y_test = train_test_split(X, y, test_size=0.2, random_state=42)\n",
        "\n",
        "# Initialize LabelEncoder\n",
        "label_encoder = LabelEncoder()\n",
        "\n",
        "# Iterate through columns and encode string features\n",
        "for col in X_train.columns:\n",
        "    if X_train[col].dtype == 'object':\n",
        "        X_train[col] = label_encoder.fit_transform(X_train[col])\n",
        "        X_test[col] = label_encoder.transform(X_test[col]) # Use the same encoder for test data\n",
        "\n",
        "# Define base models\n",
        "base_models = [\n",
        "    ('lr', LogisticRegression()),\n",
        "    ('knn', KNeighborsClassifier()),\n",
        "    ('dt', DecisionTreeClassifier())\n",
        "]\n",
        "\n",
        "# Create a meta-model (e.g., Logistic Regression)\n",
        "meta_model = LogisticRegression()\n",
        "\n",
        "# Create a StackingClassifier (blending)\n",
        "stacking_classifier = StackingClassifier(estimators=base_models, final_estimator=meta_model, cv=5)\n",
        "\n",
        "# Train the classifier\n",
        "stacking_classifier.fit(X_train, y_train)\n",
        "\n",
        "# Make predictions on the test set\n",
        "y_pred = stacking_classifier.predict(X_test)\n",
        "\n",
        "# Evaluate the model's performance\n",
        "accuracy = accuracy_score(y_test, y_pred)\n",
        "print(\"Accuracy:\", accuracy)\n",
        "rounded_accuracy = round(accuracy, 2)\n",
        "print(\"Rounded accuracy:\", rounded_accuracy)\n",
        "print(\"\\n\")\n",
        "\n",
        "# Print classification report\n",
        "print(classification_report(y_test, y_pred))"
      ]
    },
    {
      "cell_type": "code",
      "execution_count": 34,
      "metadata": {
        "colab": {
          "base_uri": "https://localhost:8080/",
          "height": 438
        },
        "id": "uQciwkaGYGVR",
        "outputId": "c451ecb6-1969-4bf8-bc3e-ae66a90b8e31"
      },
      "outputs": [
        {
          "output_type": "display_data",
          "data": {
            "text/plain": [
              "<Figure size 400x400 with 2 Axes>"
            ],
            "image/png": "[encoded data removed]"
          },
          "metadata": {}
        }
      ],
      "source": [
        "# confusion Matric using sklearn\n",
        "import seaborn as sns\n",
        "import matplotlib.pyplot as plt\n",
        "from sklearn.metrics import confusion_matrix\n",
        "\n",
        "# Set font scale for better readability\n",
        "sns.set(font_scale=1.5)\n",
        "\n",
        "# Calculate the confusion matrix (use a different variable name)\n",
        "cm = confusion_matrix(y_test, y_pred)\n",
        "\n",
        "# Create the figure and axis for the heatmap\n",
        "fig, ax = plt.subplots(figsize=(4, 4))\n",
        "\n",
        "# Create the heatmap, annotate values, and format them as integers\n",
        "sns.heatmap(cm, annot=True, fmt='d', cmap='Blues')\n",
        "\n",
        "# Set the title, x-label, and y-label\n",
        "plt.title('Confusion Matrix')\n",
        "plt.xlabel('Predicted Labels')\n",
        "plt.ylabel('True Labels')\n",
        "# Show the plot\n",
        "plt.show()"
      ]
    }
  ],
  "metadata": {
    "colab": {
      "provenance": []
    },
    "kernelspec": {
      "display_name": "Python 3",
      "name": "python3"
    },
    "language_info": {
      "name": "python"
    }
  },
  "nbformat": 4,
  "nbformat_minor": 0
}